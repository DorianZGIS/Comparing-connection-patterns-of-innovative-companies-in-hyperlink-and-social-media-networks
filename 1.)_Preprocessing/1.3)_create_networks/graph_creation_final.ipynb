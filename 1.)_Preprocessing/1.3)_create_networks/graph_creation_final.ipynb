{
 "cells": [
  {
   "cell_type": "code",
   "execution_count": 73,
   "metadata": {},
   "outputs": [],
   "source": [
    "import pandas as pd\n",
    "import networkx as nx\n",
    "import time\n",
    "import numpy as np"
   ]
  },
  {
   "cell_type": "code",
   "execution_count": null,
   "metadata": {},
   "outputs": [],
   "source": [
    "def create_pos_dic(network, data):\n",
    "    df = pd.DataFrame(columns = ['Latitude', 'Longitude'])\n",
    "    counter = 0\n",
    "    for company_abi in network.ABI:\n",
    "        counter += 1\n",
    "        df = df.append(data[data['ABI']==company_abi][['Latitude', 'Longitude']])\n",
    "        print('We are at company: ', counter)\n",
    "    keys = network.nodes\n",
    "    pos_list = [[df['Longitude'][ind],df['Latitude'][ind]]for ind in df.index]\n",
    "    values = pos_list\n",
    "    pos_dic = dict(zip(keys,values))\n",
    "    return pos_dic\n",
    "try:\n",
    "    import cPickle as pickle\n",
    "except ImportError:  \n",
    "    import pickle\n",
    "with open('pos_dic.p', 'rb') as fp:\n",
    "    pos_dic = pickle.load(fp)"
   ]
  },
  {
   "cell_type": "code",
   "execution_count": 75,
   "metadata": {},
   "outputs": [],
   "source": [
    "hyperlink_edges = pd.read_csv('hyplinks_network.csv', index_col = 0)\n",
    "follower_edges = pd.read_csv('scrapped_followers2_11910.csv', index_col = 0)\n",
    "haversine_matrix = pd.read_csv('haversine_matrix.csv', index_col = 0)"
   ]
  },
  {
   "cell_type": "code",
   "execution_count": 246,
   "metadata": {},
   "outputs": [],
   "source": [
    "haversine_matrix2.index = pos_dic.keys()\n",
    "distance_matrix = haversine_matrix2"
   ]
  },
  {
   "cell_type": "code",
   "execution_count": 76,
   "metadata": {},
   "outputs": [],
   "source": [
    "follower_edges = follower_edges.drop_duplicates(['nodes'])\n",
    "pos_dic_nodes = list(pos_dic.keys())"
   ]
  },
  {
   "cell_type": "code",
   "execution_count": 82,
   "metadata": {},
   "outputs": [],
   "source": [
    "not_in_followers_edges = []\n",
    "abi_list = list(follower_edges.ABI)\n",
    "hyperlink_edges.index = range(0,15122)\n",
    "for ind, row in hyperlink_edges.iterrows():\n",
    "    abi = row.ABI\n",
    "    if abi not in abi_list:\n",
    "        not_in_followers_edges.append(ind)"
   ]
  },
  {
   "cell_type": "code",
   "execution_count": 86,
   "metadata": {},
   "outputs": [],
   "source": [
    "hyperlink_edges = hyperlink_edges.drop(hyperlink_edges.index[not_in_followers_edges])"
   ]
  },
  {
   "cell_type": "code",
   "execution_count": 87,
   "metadata": {},
   "outputs": [],
   "source": [
    "delete = []\n",
    "abi_list = list(hyperlink_edges.ABI)\n",
    "for ind, row in follower_edges.iterrows():\n",
    "    abi = row.ABI\n",
    "    if abi not in abi_list:\n",
    "        delete.append(ind)"
   ]
  },
  {
   "cell_type": "code",
   "execution_count": 88,
   "metadata": {},
   "outputs": [],
   "source": [
    "follower_edges = follower_edges.drop(follower_edges.index[delete])"
   ]
  },
  {
   "cell_type": "code",
   "execution_count": 92,
   "metadata": {},
   "outputs": [],
   "source": [
    "#follower_edges[follower_edges.company_names=='@twitter']\n",
    "#1159 twitter\n",
    "#3578 facebook\n",
    "follower_edges = follower_edges.drop(follower_edges.index[[1159,3577]])"
   ]
  },
  {
   "cell_type": "code",
   "execution_count": 93,
   "metadata": {},
   "outputs": [
    {
     "data": {
      "text/html": [
       "<div>\n",
       "<style scoped>\n",
       "    .dataframe tbody tr th:only-of-type {\n",
       "        vertical-align: middle;\n",
       "    }\n",
       "\n",
       "    .dataframe tbody tr th {\n",
       "        vertical-align: top;\n",
       "    }\n",
       "\n",
       "    .dataframe thead th {\n",
       "        text-align: right;\n",
       "    }\n",
       "</style>\n",
       "<table border=\"1\" class=\"dataframe\">\n",
       "  <thead>\n",
       "    <tr style=\"text-align: right;\">\n",
       "      <th></th>\n",
       "      <th>company_names</th>\n",
       "      <th>nodes</th>\n",
       "      <th>edges</th>\n",
       "      <th>ABI</th>\n",
       "    </tr>\n",
       "  </thead>\n",
       "  <tbody>\n",
       "  </tbody>\n",
       "</table>\n",
       "</div>"
      ],
      "text/plain": [
       "Empty DataFrame\n",
       "Columns: [company_names, nodes, edges, ABI]\n",
       "Index: []"
      ]
     },
     "execution_count": 93,
     "metadata": {},
     "output_type": "execute_result"
    }
   ],
   "source": [
    "follower_edges[follower_edges.company_names=='@twitter']"
   ]
  },
  {
   "cell_type": "code",
   "execution_count": 94,
   "metadata": {},
   "outputs": [
    {
     "data": {
      "text/html": [
       "<div>\n",
       "<style scoped>\n",
       "    .dataframe tbody tr th:only-of-type {\n",
       "        vertical-align: middle;\n",
       "    }\n",
       "\n",
       "    .dataframe tbody tr th {\n",
       "        vertical-align: top;\n",
       "    }\n",
       "\n",
       "    .dataframe thead th {\n",
       "        text-align: right;\n",
       "    }\n",
       "</style>\n",
       "<table border=\"1\" class=\"dataframe\">\n",
       "  <thead>\n",
       "    <tr style=\"text-align: right;\">\n",
       "      <th></th>\n",
       "      <th>company_names</th>\n",
       "      <th>nodes</th>\n",
       "      <th>edges</th>\n",
       "      <th>ABI</th>\n",
       "    </tr>\n",
       "  </thead>\n",
       "  <tbody>\n",
       "  </tbody>\n",
       "</table>\n",
       "</div>"
      ],
      "text/plain": [
       "Empty DataFrame\n",
       "Columns: [company_names, nodes, edges, ABI]\n",
       "Index: []"
      ]
     },
     "execution_count": 94,
     "metadata": {},
     "output_type": "execute_result"
    }
   ],
   "source": [
    "follower_edges[follower_edges.company_names=='@facebook']"
   ]
  },
  {
   "cell_type": "code",
   "execution_count": 118,
   "metadata": {},
   "outputs": [],
   "source": [
    "hyperlink_edges.index = range(0,11894)"
   ]
  },
  {
   "cell_type": "code",
   "execution_count": 124,
   "metadata": {},
   "outputs": [
    {
     "data": {
      "text/html": [
       "<div>\n",
       "<style scoped>\n",
       "    .dataframe tbody tr th:only-of-type {\n",
       "        vertical-align: middle;\n",
       "    }\n",
       "\n",
       "    .dataframe tbody tr th {\n",
       "        vertical-align: top;\n",
       "    }\n",
       "\n",
       "    .dataframe thead th {\n",
       "        text-align: right;\n",
       "    }\n",
       "</style>\n",
       "<table border=\"1\" class=\"dataframe\">\n",
       "  <thead>\n",
       "    <tr style=\"text-align: right;\">\n",
       "      <th></th>\n",
       "      <th>company_names</th>\n",
       "      <th>nodes</th>\n",
       "      <th>ABI</th>\n",
       "      <th>edges</th>\n",
       "    </tr>\n",
       "  </thead>\n",
       "  <tbody>\n",
       "  </tbody>\n",
       "</table>\n",
       "</div>"
      ],
      "text/plain": [
       "Empty DataFrame\n",
       "Columns: [company_names, nodes, ABI, edges]\n",
       "Index: []"
      ]
     },
     "execution_count": 124,
     "metadata": {},
     "output_type": "execute_result"
    }
   ],
   "source": [
    "#hyperlink_edges = hyperlink_edges.drop(hyperlink_edges.index[[3581,1159]])\n",
    "hyperlink_edges[hyperlink_edges.company_names=='@facebook']\n",
    "# 3581\n",
    "hyperlink_edges[hyperlink_edges.company_names=='@twitter']\n",
    "# 1159"
   ]
  },
  {
   "cell_type": "code",
   "execution_count": 122,
   "metadata": {},
   "outputs": [],
   "source": [
    "follower_edges.to_csv('follower_edges.csv')\n",
    "hyperlink_edges.to_csv('hyperlink_edges.csv')"
   ]
  },
  {
   "cell_type": "code",
   "execution_count": 123,
   "metadata": {},
   "outputs": [],
   "source": [
    "follower_edges  = pd.read_csv('follower_edges.csv',index_col=0)\n",
    "hyperlink_edges = pd.read_csv('hyperlink_edges.csv',index_col=0)"
   ]
  },
  {
   "cell_type": "code",
   "execution_count": 125,
   "metadata": {},
   "outputs": [],
   "source": [
    "# sanity check do all keys match are there the same companies in both dataframes?\n",
    "names_list = list(hyperlink_edges.company_names)\n",
    "mhmm = []\n",
    "for n in follower_edges.company_names:\n",
    "    if n not in names_list:\n",
    "        mhmm.append(n)\n",
    "        \n",
    "names_list2 = list(follower_edges.company_names)\n",
    "mhmm2 = []\n",
    "for n in hyperlink_edges.company_names:\n",
    "    if n not in names_list2:\n",
    "        mhmm2.append(n)"
   ]
  },
  {
   "cell_type": "code",
   "execution_count": 131,
   "metadata": {},
   "outputs": [],
   "source": [
    "abi_list = list(hyperlink_edges.ABI)\n",
    "mhmm = []\n",
    "for n in follower_edges.ABI:\n",
    "    if n not in abi_list:\n",
    "        mhmm.append(n)\n",
    "        \n",
    "abi_list2 = list(follower_edges.ABI)\n",
    "mhmm2 = []\n",
    "for n in hyperlink_edges.ABI:\n",
    "    if n not in abi_list2:\n",
    "        mhmm2.append(n)"
   ]
  },
  {
   "cell_type": "code",
   "execution_count": 132,
   "metadata": {},
   "outputs": [
    {
     "name": "stdout",
     "output_type": "stream",
     "text": [
      "[]\n",
      "[]\n"
     ]
    }
   ],
   "source": [
    "print(mhmm)\n",
    "print(mhmm2)\n",
    "# yes there are the same edges in both"
   ]
  },
  {
   "cell_type": "markdown",
   "metadata": {},
   "source": [
    "### check average edges per node in both networks"
   ]
  },
  {
   "cell_type": "code",
   "execution_count": 38,
   "metadata": {},
   "outputs": [],
   "source": [
    "hyperlink_nodes = list(hyperlink_edges.nodes)\n",
    "degree = []\n",
    "s = time.time()\n",
    "c2 = 0\n",
    "for ind, row in hyperlink_edges.iterrows():\n",
    "    try:\n",
    "        edges = row.edges.split(',')\n",
    "        counter = 0\n",
    "        for e in edges:\n",
    "            if e in (hyperlink_nodes):\n",
    "                counter +=1\n",
    "        degree.append(counter)\n",
    "    except:\n",
    "        c2+=1\n",
    "        degree.append(0)\n",
    "e = time.time()"
   ]
  },
  {
   "cell_type": "code",
   "execution_count": 39,
   "metadata": {},
   "outputs": [],
   "source": [
    "import matplotlib.pyplot as plt\n",
    "def norm(v):\n",
    "    maxx = max(v)\n",
    "    minn = min(v)\n",
    "    norm_v = []\n",
    "    for val in v:\n",
    "        norm_val=(val-minn)/(maxx-minn)\n",
    "        norm_v.append(norm_val)\n",
    "    return norm_v"
   ]
  },
  {
   "cell_type": "code",
   "execution_count": 40,
   "metadata": {},
   "outputs": [
    {
     "data": {
      "text/plain": [
       "(array([1.4949e+04, 1.3400e+02, 2.2000e+01, 7.0000e+00, 4.0000e+00,\n",
       "        2.0000e+00, 1.0000e+00, 0.0000e+00, 0.0000e+00, 3.0000e+00]),\n",
       " array([0. , 0.1, 0.2, 0.3, 0.4, 0.5, 0.6, 0.7, 0.8, 0.9, 1. ]),\n",
       " <a list of 10 Patch objects>)"
      ]
     },
     "execution_count": 40,
     "metadata": {},
     "output_type": "execute_result"
    },
    {
     "data": {
      "image/png": "[encoded data removed]",
      "text/plain": [
       "<Figure size 432x288 with 1 Axes>"
      ]
     },
     "metadata": {
      "needs_background": "light"
     },
     "output_type": "display_data"
    }
   ],
   "source": [
    "plt.hist(norm(degree))"
   ]
  },
  {
   "cell_type": "markdown",
   "metadata": {},
   "source": [
    "# Network creation"
   ]
  },
  {
   "cell_type": "code",
   "execution_count": 4,
   "metadata": {},
   "outputs": [
    {
     "data": {
      "text/plain": [
       "9223372036854775807"
      ]
     },
     "execution_count": 4,
     "metadata": {},
     "output_type": "execute_result"
    }
   ],
   "source": [
    "import sys\n",
    "import csv\n",
    "import pandas as pd\n",
    "import networkx as nx\n",
    "csv.field_size_limit(sys.maxsize)"
   ]
  },
  {
   "cell_type": "code",
   "execution_count": 133,
   "metadata": {},
   "outputs": [],
   "source": [
    "follower_edges  = pd.read_csv('follower_edges.csv',index_col=0)\n",
    "hyperlink_edges = pd.read_csv('hyperlink_edges.csv',index_col=0)"
   ]
  },
  {
   "cell_type": "code",
   "execution_count": 2,
   "metadata": {},
   "outputs": [],
   "source": [
    "best_url = pd.read_csv('software_firms_with_best_urls_and_twitter.csv',index_col =0, sep=\"\\t\", engine='python')"
   ]
  },
  {
   "cell_type": "code",
   "execution_count": 3,
   "metadata": {},
   "outputs": [
    {
     "data": {
      "text/html": [
       "<div>\n",
       "<style scoped>\n",
       "    .dataframe tbody tr th:only-of-type {\n",
       "        vertical-align: middle;\n",
       "    }\n",
       "\n",
       "    .dataframe tbody tr th {\n",
       "        vertical-align: top;\n",
       "    }\n",
       "\n",
       "    .dataframe thead th {\n",
       "        text-align: right;\n",
       "    }\n",
       "</style>\n",
       "<table border=\"1\" class=\"dataframe\">\n",
       "  <thead>\n",
       "    <tr style=\"text-align: right;\">\n",
       "      <th></th>\n",
       "      <th>dl_slot</th>\n",
       "      <th>error</th>\n",
       "      <th>confidence</th>\n",
       "      <th>links</th>\n",
       "      <th>twitter</th>\n",
       "    </tr>\n",
       "    <tr>\n",
       "      <th>ABI</th>\n",
       "      <th></th>\n",
       "      <th></th>\n",
       "      <th></th>\n",
       "      <th></th>\n",
       "      <th></th>\n",
       "    </tr>\n",
       "  </thead>\n",
       "  <tbody>\n",
       "    <tr>\n",
       "      <td>998992978</td>\n",
       "      <td>innolink.com</td>\n",
       "      <td>None</td>\n",
       "      <td>0.5</td>\n",
       "      <td>NaN</td>\n",
       "      <td>NaN</td>\n",
       "    </tr>\n",
       "    <tr>\n",
       "      <td>998965610</td>\n",
       "      <td>apprenticeis.com</td>\n",
       "      <td>None</td>\n",
       "      <td>0.5</td>\n",
       "      <td>support.apprenticeis.com,facebook.com,linkedin...</td>\n",
       "      <td>NaN</td>\n",
       "    </tr>\n",
       "    <tr>\n",
       "      <td>998953392</td>\n",
       "      <td>geekwire.com</td>\n",
       "      <td>None</td>\n",
       "      <td>0.0</td>\n",
       "      <td>ey.com,sqoop.com,wsgr.com,bit.ly,ssci.sandler....</td>\n",
       "      <td>NaN</td>\n",
       "    </tr>\n",
       "    <tr>\n",
       "      <td>998948681</td>\n",
       "      <td>arcourts.gov</td>\n",
       "      <td>None</td>\n",
       "      <td>0.0</td>\n",
       "      <td>opinions.arcourts.gov,youtu.be,pay.arcourts.go...</td>\n",
       "      <td>@arcourts</td>\n",
       "    </tr>\n",
       "    <tr>\n",
       "      <td>998933352</td>\n",
       "      <td>tripadvisor.com</td>\n",
       "      <td>None</td>\n",
       "      <td>0.0</td>\n",
       "      <td>viator.com,thefork.com,flipkey.com,ir.tripadvi...</td>\n",
       "      <td>NaN</td>\n",
       "    </tr>\n",
       "    <tr>\n",
       "      <td>...</td>\n",
       "      <td>...</td>\n",
       "      <td>...</td>\n",
       "      <td>...</td>\n",
       "      <td>...</td>\n",
       "      <td>...</td>\n",
       "    </tr>\n",
       "    <tr>\n",
       "      <td>969188</td>\n",
       "      <td>passur.com</td>\n",
       "      <td>None</td>\n",
       "      <td>0.5</td>\n",
       "      <td>youtu.be,facebook.com,linkedin.com,PASSUR.com,...</td>\n",
       "      <td>NaN</td>\n",
       "    </tr>\n",
       "    <tr>\n",
       "      <td>940866</td>\n",
       "      <td>hpe.com</td>\n",
       "      <td>NaN</td>\n",
       "      <td>0.2</td>\n",
       "      <td>NaN</td>\n",
       "      <td>NaN</td>\n",
       "    </tr>\n",
       "    <tr>\n",
       "      <td>884007</td>\n",
       "      <td>windstream.com</td>\n",
       "      <td>None</td>\n",
       "      <td>0.5</td>\n",
       "      <td>careers.windstream.com,business.windstream.com...</td>\n",
       "      <td>@Talk2Windstream</td>\n",
       "    </tr>\n",
       "    <tr>\n",
       "      <td>838102</td>\n",
       "      <td>gdc.com</td>\n",
       "      <td>None</td>\n",
       "      <td>0.1</td>\n",
       "      <td>adobe.com</td>\n",
       "      <td>NaN</td>\n",
       "    </tr>\n",
       "    <tr>\n",
       "      <td>592444</td>\n",
       "      <td>agilysys.com</td>\n",
       "      <td>None</td>\n",
       "      <td>0.5</td>\n",
       "      <td>news.agilysys.com,twitter.com,info.agilysys.co...</td>\n",
       "      <td>@Agilysys</td>\n",
       "    </tr>\n",
       "  </tbody>\n",
       "</table>\n",
       "<p>112653 rows × 5 columns</p>\n",
       "</div>"
      ],
      "text/plain": [
       "                    dl_slot error  confidence  \\\n",
       "ABI                                             \n",
       "998992978      innolink.com  None         0.5   \n",
       "998965610  apprenticeis.com  None         0.5   \n",
       "998953392      geekwire.com  None         0.0   \n",
       "998948681      arcourts.gov  None         0.0   \n",
       "998933352   tripadvisor.com  None         0.0   \n",
       "...                     ...   ...         ...   \n",
       "969188           passur.com  None         0.5   \n",
       "940866              hpe.com   NaN         0.2   \n",
       "884007       windstream.com  None         0.5   \n",
       "838102              gdc.com  None         0.1   \n",
       "592444         agilysys.com  None         0.5   \n",
       "\n",
       "                                                       links           twitter  \n",
       "ABI                                                                             \n",
       "998992978                                                NaN               NaN  \n",
       "998965610  support.apprenticeis.com,facebook.com,linkedin...               NaN  \n",
       "998953392  ey.com,sqoop.com,wsgr.com,bit.ly,ssci.sandler....               NaN  \n",
       "998948681  opinions.arcourts.gov,youtu.be,pay.arcourts.go...         @arcourts  \n",
       "998933352  viator.com,thefork.com,flipkey.com,ir.tripadvi...               NaN  \n",
       "...                                                      ...               ...  \n",
       "969188     youtu.be,facebook.com,linkedin.com,PASSUR.com,...               NaN  \n",
       "940866                                                   NaN               NaN  \n",
       "884007     careers.windstream.com,business.windstream.com...  @Talk2Windstream  \n",
       "838102                                             adobe.com               NaN  \n",
       "592444     news.agilysys.com,twitter.com,info.agilysys.co...         @Agilysys  \n",
       "\n",
       "[112653 rows x 5 columns]"
      ]
     },
     "execution_count": 3,
     "metadata": {},
     "output_type": "execute_result"
    }
   ],
   "source": [
    "best_url"
   ]
  },
  {
   "cell_type": "code",
   "execution_count": 134,
   "metadata": {},
   "outputs": [],
   "source": [
    "data = pd.read_csv('software_firms.csv'\n",
    "                   ,sep='\\t',engine='python')"
   ]
  },
  {
   "cell_type": "code",
   "execution_count": 163,
   "metadata": {},
   "outputs": [
    {
     "data": {
      "text/plain": [
       "2091.0"
      ]
     },
     "execution_count": 163,
     "metadata": {},
     "output_type": "execute_result"
    }
   ],
   "source": [
    "(row['Sales Volume (9) - Location'].values.item())"
   ]
  },
  {
   "cell_type": "code",
   "execution_count": 165,
   "metadata": {},
   "outputs": [],
   "source": [
    "abi_list = list(follower_edges.ABI)\n",
    "sales = []\n",
    "empl = []\n",
    "sales_c = []\n",
    "empl_c = []\n",
    "year = []\n",
    "for abi in abi_list:\n",
    "    row = data[data.ABI==abi]\n",
    "    empl_c.append(row['Location Employee Size Code'].values.item())\n",
    "    sales_c.append(row['Location Sales Volume Code'].values.item())\n",
    "    empl.append(row['Employee Size (5) - Location'].values.item())\n",
    "    sales.append(row['Sales Volume (9) - Location'].values.item())\n",
    "    year.append(row['Year Established'].values.item())\n",
    "company_names_list = list(follower_edges.company_names)"
   ]
  },
  {
   "cell_type": "code",
   "execution_count": 169,
   "metadata": {},
   "outputs": [],
   "source": [
    "data_filtered = pd.DataFrame(list(zip(abi_list, company_names_list, empl_c,sales_c,empl,sales,year)),columns=['abi','company_names','empl_c','sales_c','empl','sales','year'])"
   ]
  },
  {
   "cell_type": "code",
   "execution_count": 170,
   "metadata": {},
   "outputs": [
    {
     "data": {
      "text/html": [
       "<div>\n",
       "<style scoped>\n",
       "    .dataframe tbody tr th:only-of-type {\n",
       "        vertical-align: middle;\n",
       "    }\n",
       "\n",
       "    .dataframe tbody tr th {\n",
       "        vertical-align: top;\n",
       "    }\n",
       "\n",
       "    .dataframe thead th {\n",
       "        text-align: right;\n",
       "    }\n",
       "</style>\n",
       "<table border=\"1\" class=\"dataframe\">\n",
       "  <thead>\n",
       "    <tr style=\"text-align: right;\">\n",
       "      <th></th>\n",
       "      <th>abi</th>\n",
       "      <th>company_names</th>\n",
       "      <th>empl_c</th>\n",
       "      <th>sales_c</th>\n",
       "      <th>empl</th>\n",
       "      <th>sales</th>\n",
       "      <th>year</th>\n",
       "    </tr>\n",
       "  </thead>\n",
       "  <tbody>\n",
       "    <tr>\n",
       "      <td>0</td>\n",
       "      <td>998836456</td>\n",
       "      <td>@SwiftSystemsInc</td>\n",
       "      <td>D</td>\n",
       "      <td>E</td>\n",
       "      <td>20.0</td>\n",
       "      <td>8020.0</td>\n",
       "      <td>1998.0</td>\n",
       "    </tr>\n",
       "    <tr>\n",
       "      <td>1</td>\n",
       "      <td>998834196</td>\n",
       "      <td>@netedfound</td>\n",
       "      <td>A</td>\n",
       "      <td>B</td>\n",
       "      <td>3.0</td>\n",
       "      <td>801.0</td>\n",
       "      <td>1998.0</td>\n",
       "    </tr>\n",
       "    <tr>\n",
       "      <td>2</td>\n",
       "      <td>998823546</td>\n",
       "      <td>@mediatechplus</td>\n",
       "      <td>B</td>\n",
       "      <td>C</td>\n",
       "      <td>9.0</td>\n",
       "      <td>2238.0</td>\n",
       "      <td>2004.0</td>\n",
       "    </tr>\n",
       "    <tr>\n",
       "      <td>3</td>\n",
       "      <td>998814818</td>\n",
       "      <td>@systemtools</td>\n",
       "      <td>D</td>\n",
       "      <td>F</td>\n",
       "      <td>49.0</td>\n",
       "      <td>19648.0</td>\n",
       "      <td>1999.0</td>\n",
       "    </tr>\n",
       "    <tr>\n",
       "      <td>4</td>\n",
       "      <td>998684013</td>\n",
       "      <td>@TrackerDesigns</td>\n",
       "      <td>A</td>\n",
       "      <td>A</td>\n",
       "      <td>2.0</td>\n",
       "      <td>229.0</td>\n",
       "      <td>NaN</td>\n",
       "    </tr>\n",
       "    <tr>\n",
       "      <td>...</td>\n",
       "      <td>...</td>\n",
       "      <td>...</td>\n",
       "      <td>...</td>\n",
       "      <td>...</td>\n",
       "      <td>...</td>\n",
       "      <td>...</td>\n",
       "      <td>...</td>\n",
       "    </tr>\n",
       "    <tr>\n",
       "      <td>11887</td>\n",
       "      <td>4318879</td>\n",
       "      <td>@cmdalkon</td>\n",
       "      <td>E</td>\n",
       "      <td>F</td>\n",
       "      <td>75.0</td>\n",
       "      <td>12263.0</td>\n",
       "      <td>1964.0</td>\n",
       "    </tr>\n",
       "    <tr>\n",
       "      <td>11888</td>\n",
       "      <td>4016887</td>\n",
       "      <td>@ninestarconnect</td>\n",
       "      <td>E</td>\n",
       "      <td>F</td>\n",
       "      <td>70.0</td>\n",
       "      <td>12393.0</td>\n",
       "      <td>1895.0</td>\n",
       "    </tr>\n",
       "    <tr>\n",
       "      <td>11889</td>\n",
       "      <td>2302651</td>\n",
       "      <td>@mpw_tweets</td>\n",
       "      <td>G</td>\n",
       "      <td>H</td>\n",
       "      <td>301.0</td>\n",
       "      <td>53650.0</td>\n",
       "      <td>1900.0</td>\n",
       "    </tr>\n",
       "    <tr>\n",
       "      <td>11890</td>\n",
       "      <td>2289494</td>\n",
       "      <td>@dftcomm</td>\n",
       "      <td>F</td>\n",
       "      <td>E</td>\n",
       "      <td>100.0</td>\n",
       "      <td>8866.0</td>\n",
       "      <td>1898.0</td>\n",
       "    </tr>\n",
       "    <tr>\n",
       "      <td>11891</td>\n",
       "      <td>2287498</td>\n",
       "      <td>@iacommalliance</td>\n",
       "      <td>C</td>\n",
       "      <td>D</td>\n",
       "      <td>13.0</td>\n",
       "      <td>2923.0</td>\n",
       "      <td>1905.0</td>\n",
       "    </tr>\n",
       "  </tbody>\n",
       "</table>\n",
       "<p>11892 rows × 7 columns</p>\n",
       "</div>"
      ],
      "text/plain": [
       "             abi     company_names empl_c sales_c   empl    sales    year\n",
       "0      998836456  @SwiftSystemsInc      D       E   20.0   8020.0  1998.0\n",
       "1      998834196       @netedfound      A       B    3.0    801.0  1998.0\n",
       "2      998823546    @mediatechplus      B       C    9.0   2238.0  2004.0\n",
       "3      998814818      @systemtools      D       F   49.0  19648.0  1999.0\n",
       "4      998684013   @TrackerDesigns      A       A    2.0    229.0     NaN\n",
       "...          ...               ...    ...     ...    ...      ...     ...\n",
       "11887    4318879         @cmdalkon      E       F   75.0  12263.0  1964.0\n",
       "11888    4016887  @ninestarconnect      E       F   70.0  12393.0  1895.0\n",
       "11889    2302651       @mpw_tweets      G       H  301.0  53650.0  1900.0\n",
       "11890    2289494          @dftcomm      F       E  100.0   8866.0  1898.0\n",
       "11891    2287498   @iacommalliance      C       D   13.0   2923.0  1905.0\n",
       "\n",
       "[11892 rows x 7 columns]"
      ]
     },
     "execution_count": 170,
     "metadata": {},
     "output_type": "execute_result"
    }
   ],
   "source": [
    "data_filtered"
   ]
  },
  {
   "cell_type": "code",
   "execution_count": 171,
   "metadata": {},
   "outputs": [
    {
     "data": {
      "text/plain": [
       "Index(['Unnamed: 0', 'Company', 'Address Line 1', 'City', 'State', 'ZipCode',\n",
       "       'Zip4', 'County Code', 'Area Code', 'IDCode',\n",
       "       'Location Employee Size Code', 'Location Sales Volume Code',\n",
       "       'Primary SIC Code', 'SIC6_Descriptions', 'Primary NAICS Code',\n",
       "       'NAICS8 Descriptions', 'SIC Code', 'SIC6_Descriptions (SIC)',\n",
       "       'SIC Code 1', 'SIC6_Descriptions (SIC1)', 'SIC Code 2',\n",
       "       'SIC6_Descriptions(SIC2)', 'SIC Code 3', 'SIC6_Descriptions(SIC3)',\n",
       "       'SIC Code 4', 'SIC6_Descriptions(SIC4)', 'Archive Version Year',\n",
       "       'Yellow Page Code', 'Employee Size (5) - Location',\n",
       "       'Sales Volume (9) - Location', 'Business Status Code',\n",
       "       'Industry Specific First Byte', 'Year Established', 'Office Size Code',\n",
       "       'Company Holding Status', 'ABI', 'Subsidiary Number', 'Parent Number',\n",
       "       'Parent Actual Employee Size', 'Parent Actual Sales Volume',\n",
       "       'Parent Employee Size Code', 'Parent Sales Volume Code', 'Site Number',\n",
       "       'Address Type Indicator', 'Population Code', 'Census Tract',\n",
       "       'Census Block', 'Latitude', 'Longitude', 'Match Code', 'CBSA Code',\n",
       "       'CBSA Level', 'CSA Code', 'FIPS Code', 'State_long'],\n",
       "      dtype='object')"
      ]
     },
     "execution_count": 171,
     "metadata": {},
     "output_type": "execute_result"
    }
   ],
   "source": [
    "data.columns"
   ]
  },
  {
   "cell_type": "code",
   "execution_count": 172,
   "metadata": {},
   "outputs": [],
   "source": [
    "data_filtered.to_csv('data_filtered_regression.csv')\n"
   ]
  },
  {
   "cell_type": "markdown",
   "metadata": {},
   "source": [
    "# Create followers graph"
   ]
  },
  {
   "cell_type": "code",
   "execution_count": 221,
   "metadata": {},
   "outputs": [],
   "source": [
    "network = follower_edges\n",
    "nodes_list = [int(x) for x in list(network.nodes)]\n",
    "\n",
    "nxg = nx.DiGraph()\n",
    "for node in network.company_names:\n",
    "    nxg.add_node(node)"
   ]
  },
  {
   "cell_type": "code",
   "execution_count": 223,
   "metadata": {},
   "outputs": [],
   "source": [
    "degree = [] \n",
    "failed = 0\n",
    "for index, row in network.iterrows():\n",
    "    edges = row.edges\n",
    "    if edges != '[]' and '@' not in edges and edges != 'no_friends' : # the @ condition filters out protected users for them only the company name is given back\n",
    "        edges_list = [int(x) for x in edges.replace(' ','').replace('[','').replace(']','').split(',')]\n",
    "        counter = 0\n",
    "        for edge in edges_list:\n",
    "            if edge in (nodes_list):\n",
    "                counter +=1\n",
    "                \n",
    "                from_c = row.company_names\n",
    "                to_c = network.loc[network.nodes == edge].company_names.values.item()        \n",
    "                distance = distance_matrix.loc[from_c,to_c]\n",
    "                \n",
    "                nxg.add_edge(from_c , to_c, weight = float(distance))\n",
    "        degree.append(counter)\n",
    "    else:\n",
    "        failed+=1\n"
   ]
  },
  {
   "cell_type": "code",
   "execution_count": 225,
   "metadata": {},
   "outputs": [
    {
     "name": "stdout",
     "output_type": "stream",
     "text": [
      "Name: \n",
      "Type: DiGraph\n",
      "Number of nodes: 11894\n",
      "Number of edges: 120177\n",
      "Average in degree:  10.1040\n",
      "Average out degree:  10.1040\n"
     ]
    },
    {
     "data": {
      "text/plain": [
       "49.54778790473938"
      ]
     },
     "execution_count": 225,
     "metadata": {},
     "output_type": "execute_result"
    }
   ],
   "source": [
    "nx.write_gml(nxg, \"weighted_directed_followers_graph\")\n",
    "print(nx.info(nxg))\n"
   ]
  },
  {
   "cell_type": "code",
   "execution_count": 308,
   "metadata": {},
   "outputs": [],
   "source": [
    "followers_graph = nx.read_gml(\"weighted_directed_followers_graph\")"
   ]
  },
  {
   "cell_type": "markdown",
   "metadata": {},
   "source": [
    "# Create hyperlinks graph"
   ]
  },
  {
   "cell_type": "code",
   "execution_count": 278,
   "metadata": {},
   "outputs": [
    {
     "name": "stdout",
     "output_type": "stream",
     "text": [
      "11892\n"
     ]
    }
   ],
   "source": [
    "nxg = nx.DiGraph()\n",
    "network = hyperlink_edges\n",
    "for node in network.company_names:\n",
    "    #print('We are at node: ',node)\n",
    "    nxg.add_node(node)\n",
    "print(len(network))"
   ]
  },
  {
   "cell_type": "code",
   "execution_count": 279,
   "metadata": {},
   "outputs": [
    {
     "name": "stdout",
     "output_type": "stream",
     "text": [
      "Name: \n",
      "Type: DiGraph\n",
      "Number of nodes: 11892\n",
      "Number of edges: 5671\n",
      "Average in degree:   0.4769\n",
      "Average out degree:   0.4769\n"
     ]
    }
   ],
   "source": [
    "failed = 0\n",
    "s = time.time()\n",
    "hyperlink_nodes = list(hyperlink_edges.nodes)\n",
    "\n",
    "degree = []\n",
    "adding_edge =0\n",
    "for index, row in network.iterrows():\n",
    "    edges = row.edges\n",
    "    if pd.notnull(edges) == True: \n",
    "        edges_list = edges.split(',')\n",
    "        counter = 0\n",
    "        for edge in edges_list:\n",
    "            if edge in (hyperlink_nodes):\n",
    "                counter+=1\n",
    "                from_c = row.company_names\n",
    "                to_c = network.loc[network.nodes == edge].company_names.values.item()\n",
    "                distance = distance_matrix.loc[from_c,to_c]\n",
    "                adding_edge +=1\n",
    "                #print(adding_edge)\n",
    "                nxg.add_edge(from_c , to_c, weight = float(distance))\n",
    "        degree.append(counter)\n",
    "    else:\n",
    "        failed+=1\n",
    "\n",
    "print(nx.info(nxg))\n",
    "e = time.time()\n",
    "\n",
    "\n"
   ]
  },
  {
   "cell_type": "code",
   "execution_count": 280,
   "metadata": {},
   "outputs": [
    {
     "data": {
      "text/plain": [
       "39.040776014328"
      ]
     },
     "execution_count": 280,
     "metadata": {},
     "output_type": "execute_result"
    }
   ],
   "source": [
    "e-s"
   ]
  },
  {
   "cell_type": "code",
   "execution_count": 281,
   "metadata": {},
   "outputs": [],
   "source": [
    "nx.write_gml(nxg, \"weighted_directed_hyplinks_graph\")"
   ]
  }
 ],
 "metadata": {
  "kernelspec": {
   "display_name": "Python 3",
   "language": "python",
   "name": "python3"
  },
  "language_info": {
   "codemirror_mode": {
    "name": "ipython",
    "version": 3
   },
   "file_extension": ".py",
   "mimetype": "text/x-python",
   "name": "python",
   "nbconvert_exporter": "python",
   "pygments_lexer": "ipython3",
   "version": "3.7.4"
  }
 },
 "nbformat": 4,
 "nbformat_minor": 2
}
