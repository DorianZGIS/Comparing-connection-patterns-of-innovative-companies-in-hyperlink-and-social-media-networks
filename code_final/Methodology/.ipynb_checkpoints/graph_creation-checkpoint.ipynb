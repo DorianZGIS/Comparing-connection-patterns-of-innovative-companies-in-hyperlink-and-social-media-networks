{
 "cells": [
  {
   "cell_type": "code",
   "execution_count": 73,
   "metadata": {},
   "outputs": [],
   "source": [
    "import pandas as pd\n",
    "import networkx as nx\n",
    "import time\n",
    "import numpy as np"
   ]
  },
  {
   "cell_type": "code",
   "execution_count": 75,
   "metadata": {},
   "outputs": [],
   "source": [
    "hyperlink_edges = pd.read_csv('/Users/dorianbenutzer/Desktop/Digital_Twitter_Layer_local/data/graphs/hyplinks_network.csv', index_col = 0)\n",
    "follower_edges = pd.read_csv('/Users/dorianbenutzer/Desktop/Digital_Twitter_Layer_local/data/scrapped_followers2/11910.csv', index_col = 0)\n",
    "#haversine_matrix2 = pd.read_csv('/Users/dorianbenutzer/Desktop/Digital_Twitter_Layer_local/data/graphs/haversine_matrix_with_names.csv', index_col = 0)"
   ]
  },
  {
   "cell_type": "code",
   "execution_count": 17,
   "metadata": {},
   "outputs": [],
   "source": [
    "try:\n",
    "    import cPickle as pickle\n",
    "except ImportError:  \n",
    "    import pickle\n",
    "with open('/Users/dorianbenutzer/Desktop/Digital_Twitter_Layer_local/data/graphs/pos_dic2_hyp.p', 'rb') as fp:\n",
    "    pos_dic = pickle.load(fp)"
   ]
  },
  {
   "cell_type": "code",
   "execution_count": 246,
   "metadata": {},
   "outputs": [],
   "source": [
    "haversine_matrix2.index = pos_dic.keys()\n",
    "distance_matrix = haversine_matrix2"
   ]
  },
  {
   "cell_type": "code",
   "execution_count": 76,
   "metadata": {},
   "outputs": [],
   "source": [
    "\n",
    "follower_edges = follower_edges.drop_duplicates(['nodes'])\n",
    "pos_dic_nodes = list(pos_dic.keys())"
   ]
  },
  {
   "cell_type": "code",
   "execution_count": 77,
   "metadata": {},
   "outputs": [
    {
     "data": {
      "text/html": [
       "<div>\n",
       "<style scoped>\n",
       "    .dataframe tbody tr th:only-of-type {\n",
       "        vertical-align: middle;\n",
       "    }\n",
       "\n",
       "    .dataframe tbody tr th {\n",
       "        vertical-align: top;\n",
       "    }\n",
       "\n",
       "    .dataframe thead th {\n",
       "        text-align: right;\n",
       "    }\n",
       "</style>\n",
       "<table border=\"1\" class=\"dataframe\">\n",
       "  <thead>\n",
       "    <tr style=\"text-align: right;\">\n",
       "      <th></th>\n",
       "      <th>Unnamed: 0.1</th>\n",
       "      <th>company_names</th>\n",
       "      <th>nodes</th>\n",
       "      <th>edges</th>\n",
       "      <th>ABI</th>\n",
       "    </tr>\n",
       "  </thead>\n",
       "  <tbody>\n",
       "    <tr>\n",
       "      <td>0</td>\n",
       "      <td>0</td>\n",
       "      <td>@SwiftSystemsInc</td>\n",
       "      <td>1209347202</td>\n",
       "      <td>[1004707837774385152, 792791914525429760, 7101...</td>\n",
       "      <td>998836456</td>\n",
       "    </tr>\n",
       "    <tr>\n",
       "      <td>1</td>\n",
       "      <td>1</td>\n",
       "      <td>@netedfound</td>\n",
       "      <td>2398573820</td>\n",
       "      <td>[1675670611, 1174458963875618816, 15679924, 12...</td>\n",
       "      <td>998834196</td>\n",
       "    </tr>\n",
       "    <tr>\n",
       "      <td>2</td>\n",
       "      <td>2</td>\n",
       "      <td>@mediatechplus</td>\n",
       "      <td>37919797</td>\n",
       "      <td>[984842507593879553, 56505125, 21306514, 18164...</td>\n",
       "      <td>998823546</td>\n",
       "    </tr>\n",
       "    <tr>\n",
       "      <td>3</td>\n",
       "      <td>3</td>\n",
       "      <td>@systemtools</td>\n",
       "      <td>48332614</td>\n",
       "      <td>[16296064, 63373527, 437787736, 18432619, 1911...</td>\n",
       "      <td>998814818</td>\n",
       "    </tr>\n",
       "    <tr>\n",
       "      <td>4</td>\n",
       "      <td>4</td>\n",
       "      <td>@TrackerDesigns</td>\n",
       "      <td>78919760</td>\n",
       "      <td>[18166778, 38495835, 232901331, 18983793, 3934...</td>\n",
       "      <td>998684013</td>\n",
       "    </tr>\n",
       "    <tr>\n",
       "      <td>...</td>\n",
       "      <td>...</td>\n",
       "      <td>...</td>\n",
       "      <td>...</td>\n",
       "      <td>...</td>\n",
       "      <td>...</td>\n",
       "    </tr>\n",
       "    <tr>\n",
       "      <td>15118</td>\n",
       "      <td>15118</td>\n",
       "      <td>@cmdalkon</td>\n",
       "      <td>39273118</td>\n",
       "      <td>[475192593, 789587924987752448, 4920724949, 11...</td>\n",
       "      <td>4318879</td>\n",
       "    </tr>\n",
       "    <tr>\n",
       "      <td>15119</td>\n",
       "      <td>15119</td>\n",
       "      <td>@ninestarconnect</td>\n",
       "      <td>52791330</td>\n",
       "      <td>[1691922150, 1544114988, 234006641, 872747384,...</td>\n",
       "      <td>4016887</td>\n",
       "    </tr>\n",
       "    <tr>\n",
       "      <td>15120</td>\n",
       "      <td>15120</td>\n",
       "      <td>@mpw_tweets</td>\n",
       "      <td>570280011</td>\n",
       "      <td>[16203323, 55600917, 923718398953091072, 10498...</td>\n",
       "      <td>2302651</td>\n",
       "    </tr>\n",
       "    <tr>\n",
       "      <td>15121</td>\n",
       "      <td>15121</td>\n",
       "      <td>@dftcomm</td>\n",
       "      <td>83918924</td>\n",
       "      <td>[491682187, 1101006390292873216, 1123777743144...</td>\n",
       "      <td>2289494</td>\n",
       "    </tr>\n",
       "    <tr>\n",
       "      <td>15122</td>\n",
       "      <td>15122</td>\n",
       "      <td>@iacommalliance</td>\n",
       "      <td>2230678370</td>\n",
       "      <td>[543626715, 2918734142, 494629576, 3239966226,...</td>\n",
       "      <td>2287498</td>\n",
       "    </tr>\n",
       "  </tbody>\n",
       "</table>\n",
       "<p>11896 rows × 5 columns</p>\n",
       "</div>"
      ],
      "text/plain": [
       "       Unnamed: 0.1     company_names       nodes  \\\n",
       "0                 0  @SwiftSystemsInc  1209347202   \n",
       "1                 1       @netedfound  2398573820   \n",
       "2                 2    @mediatechplus    37919797   \n",
       "3                 3      @systemtools    48332614   \n",
       "4                 4   @TrackerDesigns    78919760   \n",
       "...             ...               ...         ...   \n",
       "15118         15118         @cmdalkon    39273118   \n",
       "15119         15119  @ninestarconnect    52791330   \n",
       "15120         15120       @mpw_tweets   570280011   \n",
       "15121         15121          @dftcomm    83918924   \n",
       "15122         15122   @iacommalliance  2230678370   \n",
       "\n",
       "                                                   edges        ABI  \n",
       "0      [1004707837774385152, 792791914525429760, 7101...  998836456  \n",
       "1      [1675670611, 1174458963875618816, 15679924, 12...  998834196  \n",
       "2      [984842507593879553, 56505125, 21306514, 18164...  998823546  \n",
       "3      [16296064, 63373527, 437787736, 18432619, 1911...  998814818  \n",
       "4      [18166778, 38495835, 232901331, 18983793, 3934...  998684013  \n",
       "...                                                  ...        ...  \n",
       "15118  [475192593, 789587924987752448, 4920724949, 11...    4318879  \n",
       "15119  [1691922150, 1544114988, 234006641, 872747384,...    4016887  \n",
       "15120  [16203323, 55600917, 923718398953091072, 10498...    2302651  \n",
       "15121  [491682187, 1101006390292873216, 1123777743144...    2289494  \n",
       "15122  [543626715, 2918734142, 494629576, 3239966226,...    2287498  \n",
       "\n",
       "[11896 rows x 5 columns]"
      ]
     },
     "execution_count": 77,
     "metadata": {},
     "output_type": "execute_result"
    }
   ],
   "source": [
    "follower_edges"
   ]
  },
  {
   "cell_type": "code",
   "execution_count": 78,
   "metadata": {},
   "outputs": [],
   "source": [
    "try:\n",
    "    follower_edges= follower_edges.drop(['Unnamed: 0.1'],axis=1)\n",
    "except:\n",
    "    print('No unnamed column')\n"
   ]
  },
  {
   "cell_type": "code",
   "execution_count": 79,
   "metadata": {},
   "outputs": [
    {
     "name": "stdout",
     "output_type": "stream",
     "text": [
      "2\n"
     ]
    }
   ],
   "source": [
    "delete_coms = []\n",
    "follower_edges.index = range(0,11896)\n",
    "for ind,row in follower_edges.iterrows():\n",
    "    com = row.company_names\n",
    "    if com not in pos_dic_nodes:\n",
    "        delete_coms.append(ind)\n",
    "print(len(delete_coms))"
   ]
  },
  {
   "cell_type": "code",
   "execution_count": 80,
   "metadata": {},
   "outputs": [
    {
     "name": "stdout",
     "output_type": "stream",
     "text": [
      "11896\n",
      "11894\n"
     ]
    }
   ],
   "source": [
    "print(len(follower_edges))\n",
    "follower_edges = follower_edges.drop(follower_edges.index[delete_coms])\n",
    "print(len(follower_edges))"
   ]
  },
  {
   "cell_type": "code",
   "execution_count": 81,
   "metadata": {},
   "outputs": [
    {
     "data": {
      "text/html": [
       "<div>\n",
       "<style scoped>\n",
       "    .dataframe tbody tr th:only-of-type {\n",
       "        vertical-align: middle;\n",
       "    }\n",
       "\n",
       "    .dataframe tbody tr th {\n",
       "        vertical-align: top;\n",
       "    }\n",
       "\n",
       "    .dataframe thead th {\n",
       "        text-align: right;\n",
       "    }\n",
       "</style>\n",
       "<table border=\"1\" class=\"dataframe\">\n",
       "  <thead>\n",
       "    <tr style=\"text-align: right;\">\n",
       "      <th></th>\n",
       "      <th>company_names</th>\n",
       "      <th>nodes</th>\n",
       "      <th>edges</th>\n",
       "      <th>ABI</th>\n",
       "    </tr>\n",
       "  </thead>\n",
       "  <tbody>\n",
       "  </tbody>\n",
       "</table>\n",
       "</div>"
      ],
      "text/plain": [
       "Empty DataFrame\n",
       "Columns: [company_names, nodes, edges, ABI]\n",
       "Index: []"
      ]
     },
     "execution_count": 81,
     "metadata": {},
     "output_type": "execute_result"
    }
   ],
   "source": [
    "follower_edges[follower_edges.company_names =='@cnni']\n"
   ]
  },
  {
   "cell_type": "code",
   "execution_count": 82,
   "metadata": {},
   "outputs": [],
   "source": [
    "not_in_followers_edges = []\n",
    "abi_list = list(follower_edges.ABI)\n",
    "hyperlink_edges.index = range(0,15122)\n",
    "for ind, row in hyperlink_edges.iterrows():\n",
    "    abi = row.ABI\n",
    "    if abi not in abi_list:\n",
    "        not_in_followers_edges.append(ind)"
   ]
  },
  {
   "cell_type": "code",
   "execution_count": 83,
   "metadata": {},
   "outputs": [
    {
     "data": {
      "text/plain": [
       "3228"
      ]
     },
     "execution_count": 83,
     "metadata": {},
     "output_type": "execute_result"
    }
   ],
   "source": [
    "len(not_in_followers_edges)"
   ]
  },
  {
   "cell_type": "code",
   "execution_count": 84,
   "metadata": {},
   "outputs": [
    {
     "data": {
      "text/plain": [
       "RangeIndex(start=0, stop=15122, step=1)"
      ]
     },
     "execution_count": 84,
     "metadata": {},
     "output_type": "execute_result"
    }
   ],
   "source": [
    "hyperlink_edges.index"
   ]
  },
  {
   "cell_type": "code",
   "execution_count": 85,
   "metadata": {},
   "outputs": [
    {
     "data": {
      "text/plain": [
       "15121"
      ]
     },
     "execution_count": 85,
     "metadata": {},
     "output_type": "execute_result"
    }
   ],
   "source": [
    "not_in_followers_edges[3227]"
   ]
  },
  {
   "cell_type": "code",
   "execution_count": 86,
   "metadata": {},
   "outputs": [],
   "source": [
    "hyperlink_edges = hyperlink_edges.drop(hyperlink_edges.index[not_in_followers_edges])"
   ]
  },
  {
   "cell_type": "code",
   "execution_count": 87,
   "metadata": {},
   "outputs": [],
   "source": [
    "delete = []\n",
    "abi_list = list(hyperlink_edges.ABI)\n",
    "for ind, row in follower_edges.iterrows():\n",
    "    abi = row.ABI\n",
    "    if abi not in abi_list:\n",
    "        delete.append(ind)"
   ]
  },
  {
   "cell_type": "code",
   "execution_count": 88,
   "metadata": {},
   "outputs": [],
   "source": [
    "follower_edges = follower_edges.drop(follower_edges.index[delete])"
   ]
  },
  {
   "cell_type": "code",
   "execution_count": 92,
   "metadata": {},
   "outputs": [],
   "source": [
    "#follower_edges[follower_edges.company_names=='@twitter']\n",
    "#1159 twitter\n",
    "#3578 facebook\n",
    "follower_edges = follower_edges.drop(follower_edges.index[[1159,3577]])"
   ]
  },
  {
   "cell_type": "code",
   "execution_count": 93,
   "metadata": {},
   "outputs": [
    {
     "data": {
      "text/html": [
       "<div>\n",
       "<style scoped>\n",
       "    .dataframe tbody tr th:only-of-type {\n",
       "        vertical-align: middle;\n",
       "    }\n",
       "\n",
       "    .dataframe tbody tr th {\n",
       "        vertical-align: top;\n",
       "    }\n",
       "\n",
       "    .dataframe thead th {\n",
       "        text-align: right;\n",
       "    }\n",
       "</style>\n",
       "<table border=\"1\" class=\"dataframe\">\n",
       "  <thead>\n",
       "    <tr style=\"text-align: right;\">\n",
       "      <th></th>\n",
       "      <th>company_names</th>\n",
       "      <th>nodes</th>\n",
       "      <th>edges</th>\n",
       "      <th>ABI</th>\n",
       "    </tr>\n",
       "  </thead>\n",
       "  <tbody>\n",
       "  </tbody>\n",
       "</table>\n",
       "</div>"
      ],
      "text/plain": [
       "Empty DataFrame\n",
       "Columns: [company_names, nodes, edges, ABI]\n",
       "Index: []"
      ]
     },
     "execution_count": 93,
     "metadata": {},
     "output_type": "execute_result"
    }
   ],
   "source": [
    "follower_edges[follower_edges.company_names=='@twitter']"
   ]
  },
  {
   "cell_type": "code",
   "execution_count": 94,
   "metadata": {},
   "outputs": [
    {
     "data": {
      "text/html": [
       "<div>\n",
       "<style scoped>\n",
       "    .dataframe tbody tr th:only-of-type {\n",
       "        vertical-align: middle;\n",
       "    }\n",
       "\n",
       "    .dataframe tbody tr th {\n",
       "        vertical-align: top;\n",
       "    }\n",
       "\n",
       "    .dataframe thead th {\n",
       "        text-align: right;\n",
       "    }\n",
       "</style>\n",
       "<table border=\"1\" class=\"dataframe\">\n",
       "  <thead>\n",
       "    <tr style=\"text-align: right;\">\n",
       "      <th></th>\n",
       "      <th>company_names</th>\n",
       "      <th>nodes</th>\n",
       "      <th>edges</th>\n",
       "      <th>ABI</th>\n",
       "    </tr>\n",
       "  </thead>\n",
       "  <tbody>\n",
       "  </tbody>\n",
       "</table>\n",
       "</div>"
      ],
      "text/plain": [
       "Empty DataFrame\n",
       "Columns: [company_names, nodes, edges, ABI]\n",
       "Index: []"
      ]
     },
     "execution_count": 94,
     "metadata": {},
     "output_type": "execute_result"
    }
   ],
   "source": [
    "follower_edges[follower_edges.company_names=='@facebook']"
   ]
  },
  {
   "cell_type": "code",
   "execution_count": 118,
   "metadata": {},
   "outputs": [],
   "source": [
    "hyperlink_edges.index = range(0,11894)"
   ]
  },
  {
   "cell_type": "code",
   "execution_count": 124,
   "metadata": {},
   "outputs": [
    {
     "data": {
      "text/html": [
       "<div>\n",
       "<style scoped>\n",
       "    .dataframe tbody tr th:only-of-type {\n",
       "        vertical-align: middle;\n",
       "    }\n",
       "\n",
       "    .dataframe tbody tr th {\n",
       "        vertical-align: top;\n",
       "    }\n",
       "\n",
       "    .dataframe thead th {\n",
       "        text-align: right;\n",
       "    }\n",
       "</style>\n",
       "<table border=\"1\" class=\"dataframe\">\n",
       "  <thead>\n",
       "    <tr style=\"text-align: right;\">\n",
       "      <th></th>\n",
       "      <th>company_names</th>\n",
       "      <th>nodes</th>\n",
       "      <th>ABI</th>\n",
       "      <th>edges</th>\n",
       "    </tr>\n",
       "  </thead>\n",
       "  <tbody>\n",
       "  </tbody>\n",
       "</table>\n",
       "</div>"
      ],
      "text/plain": [
       "Empty DataFrame\n",
       "Columns: [company_names, nodes, ABI, edges]\n",
       "Index: []"
      ]
     },
     "execution_count": 124,
     "metadata": {},
     "output_type": "execute_result"
    }
   ],
   "source": [
    "#hyperlink_edges = hyperlink_edges.drop(hyperlink_edges.index[[3581,1159]])\n",
    "hyperlink_edges[hyperlink_edges.company_names=='@facebook']\n",
    "# 3581\n",
    "hyperlink_edges[hyperlink_edges.company_names=='@twitter']\n",
    "# 1159"
   ]
  },
  {
   "cell_type": "code",
   "execution_count": 122,
   "metadata": {},
   "outputs": [],
   "source": [
    "follower_edges.to_csv('/Users/dorianbenutzer/Desktop/Digital_Twitter_Layer_local/data/graphs/follower_edges.csv')\n",
    "hyperlink_edges.to_csv('/Users/dorianbenutzer/Desktop/Digital_Twitter_Layer_local/data/graphs/hyperlink_edges.csv')"
   ]
  },
  {
   "cell_type": "code",
   "execution_count": 123,
   "metadata": {},
   "outputs": [],
   "source": [
    "follower_edges  = pd.read_csv('/Users/dorianbenutzer/Desktop/Digital_Twitter_Layer_local/data/graphs/follower_edges.csv',index_col=0)\n",
    "hyperlink_edges = pd.read_csv('/Users/dorianbenutzer/Desktop/Digital_Twitter_Layer_local/data/graphs/hyperlink_edges.csv',index_col=0)"
   ]
  },
  {
   "cell_type": "code",
   "execution_count": 125,
   "metadata": {},
   "outputs": [],
   "source": [
    "names_list = list(hyperlink_edges.company_names)\n",
    "mhmm = []\n",
    "for n in follower_edges.company_names:\n",
    "    if n not in names_list:\n",
    "        mhmm.append(n)\n",
    "        \n",
    "names_list2 = list(follower_edges.company_names)\n",
    "mhmm2 = []\n",
    "for n in hyperlink_edges.company_names:\n",
    "    if n not in names_list2:\n",
    "        mhmm2.append(n)"
   ]
  },
  {
   "cell_type": "code",
   "execution_count": 131,
   "metadata": {},
   "outputs": [],
   "source": [
    "abi_list = list(hyperlink_edges.ABI)\n",
    "mhmm = []\n",
    "for n in follower_edges.ABI:\n",
    "    if n not in abi_list:\n",
    "        mhmm.append(n)\n",
    "        \n",
    "abi_list2 = list(follower_edges.ABI)\n",
    "mhmm2 = []\n",
    "for n in hyperlink_edges.ABI:\n",
    "    if n not in abi_list2:\n",
    "        mhmm2.append(n)"
   ]
  },
  {
   "cell_type": "code",
   "execution_count": 132,
   "metadata": {},
   "outputs": [
    {
     "name": "stdout",
     "output_type": "stream",
     "text": [
      "[]\n",
      "[]\n"
     ]
    }
   ],
   "source": [
    "print(mhmm)\n",
    "print(mhmm2)"
   ]
  },
  {
   "cell_type": "markdown",
   "metadata": {},
   "source": [
    "### check average edges per node in both networks"
   ]
  },
  {
   "cell_type": "code",
   "execution_count": 38,
   "metadata": {},
   "outputs": [],
   "source": [
    "hyperlink_nodes = list(hyperlink_edges.nodes)\n",
    "degree = []\n",
    "s = time.time()\n",
    "c2 = 0\n",
    "for ind, row in hyperlink_edges.iterrows():\n",
    "    try:\n",
    "        edges = row.edges.split(',')\n",
    "        counter = 0\n",
    "        for e in edges:\n",
    "            if e in (hyperlink_nodes):\n",
    "                counter +=1\n",
    "        degree.append(counter)\n",
    "    except:\n",
    "        c2+=1\n",
    "        degree.append(0)\n",
    "e = time.time()"
   ]
  },
  {
   "cell_type": "code",
   "execution_count": 39,
   "metadata": {},
   "outputs": [],
   "source": [
    "import matplotlib.pyplot as plt\n",
    "def norm(v):\n",
    "    maxx = max(v)\n",
    "    minn = min(v)\n",
    "    norm_v = []\n",
    "    for val in v:\n",
    "        norm_val=(val-minn)/(maxx-minn)\n",
    "        norm_v.append(norm_val)\n",
    "    return norm_v"
   ]
  },
  {
   "cell_type": "code",
   "execution_count": 71,
   "metadata": {},
   "outputs": [
    {
     "data": {
      "text/plain": [
       "1"
      ]
     },
     "execution_count": 71,
     "metadata": {},
     "output_type": "execute_result"
    }
   ],
   "source": [
    "c2"
   ]
  },
  {
   "cell_type": "code",
   "execution_count": 40,
   "metadata": {},
   "outputs": [
    {
     "data": {
      "text/plain": [
       "(array([1.4949e+04, 1.3400e+02, 2.2000e+01, 7.0000e+00, 4.0000e+00,\n",
       "        2.0000e+00, 1.0000e+00, 0.0000e+00, 0.0000e+00, 3.0000e+00]),\n",
       " array([0. , 0.1, 0.2, 0.3, 0.4, 0.5, 0.6, 0.7, 0.8, 0.9, 1. ]),\n",
       " <a list of 10 Patch objects>)"
      ]
     },
     "execution_count": 40,
     "metadata": {},
     "output_type": "execute_result"
    },
    {
     "data": {
      "image/png": "[encoded data removed]",
      "text/plain": [
       "<Figure size 432x288 with 1 Axes>"
      ]
     },
     "metadata": {
      "needs_background": "light"
     },
     "output_type": "display_data"
    }
   ],
   "source": [
    "plt.hist(norm(degree))\n"
   ]
  },
  {
   "cell_type": "markdown",
   "metadata": {},
   "source": [
    "# Check network creation"
   ]
  },
  {
   "cell_type": "code",
   "execution_count": 4,
   "metadata": {},
   "outputs": [
    {
     "data": {
      "text/plain": [
       "9223372036854775807"
      ]
     },
     "execution_count": 4,
     "metadata": {},
     "output_type": "execute_result"
    }
   ],
   "source": [
    "import sys\n",
    "import csv\n",
    "import pandas as pd\n",
    "import networkx as nx\n",
    "csv.field_size_limit(sys.maxsize)"
   ]
  },
  {
   "cell_type": "code",
   "execution_count": 133,
   "metadata": {},
   "outputs": [],
   "source": [
    "follower_edges  = pd.read_csv('/Users/dorianbenutzer/Desktop/Digital_Twitter_Layer_local/data/graphs/follower_edges.csv',index_col=0)\n",
    "hyperlink_edges = pd.read_csv('/Users/dorianbenutzer/Desktop/Digital_Twitter_Layer_local/data/graphs/hyperlink_edges.csv',index_col=0)"
   ]
  },
  {
   "cell_type": "code",
   "execution_count": 2,
   "metadata": {},
   "outputs": [],
   "source": [
    "best_url = pd.read_csv('/Users/dorianbenutzer/Desktop/Digital_Twitter_Layer/Data/data/software_firms_with_best_urls_and_twitter.csv',index_col =0, sep=\"\\t\", engine='python')"
   ]
  },
  {
   "cell_type": "code",
   "execution_count": 3,
   "metadata": {},
   "outputs": [
    {
     "data": {
      "text/html": [
       "<div>\n",
       "<style scoped>\n",
       "    .dataframe tbody tr th:only-of-type {\n",
       "        vertical-align: middle;\n",
       "    }\n",
       "\n",
       "    .dataframe tbody tr th {\n",
       "        vertical-align: top;\n",
       "    }\n",
       "\n",
       "    .dataframe thead th {\n",
       "        text-align: right;\n",
       "    }\n",
       "</style>\n",
       "<table border=\"1\" class=\"dataframe\">\n",
       "  <thead>\n",
       "    <tr style=\"text-align: right;\">\n",
       "      <th></th>\n",
       "      <th>dl_slot</th>\n",
       "      <th>error</th>\n",
       "      <th>confidence</th>\n",
       "      <th>links</th>\n",
       "      <th>twitter</th>\n",
       "    </tr>\n",
       "    <tr>\n",
       "      <th>ABI</th>\n",
       "      <th></th>\n",
       "      <th></th>\n",
       "      <th></th>\n",
       "      <th></th>\n",
       "      <th></th>\n",
       "    </tr>\n",
       "  </thead>\n",
       "  <tbody>\n",
       "    <tr>\n",
       "      <td>998992978</td>\n",
       "      <td>innolink.com</td>\n",
       "      <td>None</td>\n",
       "      <td>0.5</td>\n",
       "      <td>NaN</td>\n",
       "      <td>NaN</td>\n",
       "    </tr>\n",
       "    <tr>\n",
       "      <td>998965610</td>\n",
       "      <td>apprenticeis.com</td>\n",
       "      <td>None</td>\n",
       "      <td>0.5</td>\n",
       "      <td>support.apprenticeis.com,facebook.com,linkedin...</td>\n",
       "      <td>NaN</td>\n",
       "    </tr>\n",
       "    <tr>\n",
       "      <td>998953392</td>\n",
       "      <td>geekwire.com</td>\n",
       "      <td>None</td>\n",
       "      <td>0.0</td>\n",
       "      <td>ey.com,sqoop.com,wsgr.com,bit.ly,ssci.sandler....</td>\n",
       "      <td>NaN</td>\n",
       "    </tr>\n",
       "    <tr>\n",
       "      <td>998948681</td>\n",
       "      <td>arcourts.gov</td>\n",
       "      <td>None</td>\n",
       "      <td>0.0</td>\n",
       "      <td>opinions.arcourts.gov,youtu.be,pay.arcourts.go...</td>\n",
       "      <td>@arcourts</td>\n",
       "    </tr>\n",
       "    <tr>\n",
       "      <td>998933352</td>\n",
       "      <td>tripadvisor.com</td>\n",
       "      <td>None</td>\n",
       "      <td>0.0</td>\n",
       "      <td>viator.com,thefork.com,flipkey.com,ir.tripadvi...</td>\n",
       "      <td>NaN</td>\n",
       "    </tr>\n",
       "    <tr>\n",
       "      <td>...</td>\n",
       "      <td>...</td>\n",
       "      <td>...</td>\n",
       "      <td>...</td>\n",
       "      <td>...</td>\n",
       "      <td>...</td>\n",
       "    </tr>\n",
       "    <tr>\n",
       "      <td>969188</td>\n",
       "      <td>passur.com</td>\n",
       "      <td>None</td>\n",
       "      <td>0.5</td>\n",
       "      <td>youtu.be,facebook.com,linkedin.com,PASSUR.com,...</td>\n",
       "      <td>NaN</td>\n",
       "    </tr>\n",
       "    <tr>\n",
       "      <td>940866</td>\n",
       "      <td>hpe.com</td>\n",
       "      <td>NaN</td>\n",
       "      <td>0.2</td>\n",
       "      <td>NaN</td>\n",
       "      <td>NaN</td>\n",
       "    </tr>\n",
       "    <tr>\n",
       "      <td>884007</td>\n",
       "      <td>windstream.com</td>\n",
       "      <td>None</td>\n",
       "      <td>0.5</td>\n",
       "      <td>careers.windstream.com,business.windstream.com...</td>\n",
       "      <td>@Talk2Windstream</td>\n",
       "    </tr>\n",
       "    <tr>\n",
       "      <td>838102</td>\n",
       "      <td>gdc.com</td>\n",
       "      <td>None</td>\n",
       "      <td>0.1</td>\n",
       "      <td>adobe.com</td>\n",
       "      <td>NaN</td>\n",
       "    </tr>\n",
       "    <tr>\n",
       "      <td>592444</td>\n",
       "      <td>agilysys.com</td>\n",
       "      <td>None</td>\n",
       "      <td>0.5</td>\n",
       "      <td>news.agilysys.com,twitter.com,info.agilysys.co...</td>\n",
       "      <td>@Agilysys</td>\n",
       "    </tr>\n",
       "  </tbody>\n",
       "</table>\n",
       "<p>112653 rows × 5 columns</p>\n",
       "</div>"
      ],
      "text/plain": [
       "                    dl_slot error  confidence  \\\n",
       "ABI                                             \n",
       "998992978      innolink.com  None         0.5   \n",
       "998965610  apprenticeis.com  None         0.5   \n",
       "998953392      geekwire.com  None         0.0   \n",
       "998948681      arcourts.gov  None         0.0   \n",
       "998933352   tripadvisor.com  None         0.0   \n",
       "...                     ...   ...         ...   \n",
       "969188           passur.com  None         0.5   \n",
       "940866              hpe.com   NaN         0.2   \n",
       "884007       windstream.com  None         0.5   \n",
       "838102              gdc.com  None         0.1   \n",
       "592444         agilysys.com  None         0.5   \n",
       "\n",
       "                                                       links           twitter  \n",
       "ABI                                                                             \n",
       "998992978                                                NaN               NaN  \n",
       "998965610  support.apprenticeis.com,facebook.com,linkedin...               NaN  \n",
       "998953392  ey.com,sqoop.com,wsgr.com,bit.ly,ssci.sandler....               NaN  \n",
       "998948681  opinions.arcourts.gov,youtu.be,pay.arcourts.go...         @arcourts  \n",
       "998933352  viator.com,thefork.com,flipkey.com,ir.tripadvi...               NaN  \n",
       "...                                                      ...               ...  \n",
       "969188     youtu.be,facebook.com,linkedin.com,PASSUR.com,...               NaN  \n",
       "940866                                                   NaN               NaN  \n",
       "884007     careers.windstream.com,business.windstream.com...  @Talk2Windstream  \n",
       "838102                                             adobe.com               NaN  \n",
       "592444     news.agilysys.com,twitter.com,info.agilysys.co...         @Agilysys  \n",
       "\n",
       "[112653 rows x 5 columns]"
      ]
     },
     "execution_count": 3,
     "metadata": {},
     "output_type": "execute_result"
    }
   ],
   "source": [
    "best_url"
   ]
  },
  {
   "cell_type": "code",
   "execution_count": 134,
   "metadata": {},
   "outputs": [],
   "source": [
    "data = pd.read_csv('/Users/dorianbenutzer/Desktop/Digital_Twitter_Layer_local/data/Jan/software_firms.csv'\n",
    "                   ,sep='\\t',engine='python')"
   ]
  },
  {
   "cell_type": "code",
   "execution_count": 163,
   "metadata": {},
   "outputs": [
    {
     "data": {
      "text/plain": [
       "2091.0"
      ]
     },
     "execution_count": 163,
     "metadata": {},
     "output_type": "execute_result"
    }
   ],
   "source": [
    "(row['Sales Volume (9) - Location'].values.item())"
   ]
  },
  {
   "cell_type": "code",
   "execution_count": 165,
   "metadata": {},
   "outputs": [],
   "source": [
    "abi_list = list(follower_edges.ABI)\n",
    "sales = []\n",
    "empl = []\n",
    "sales_c = []\n",
    "empl_c = []\n",
    "year = []\n",
    "for abi in abi_list:\n",
    "    row = data[data.ABI==abi]\n",
    "    empl_c.append(row['Location Employee Size Code'].values.item())\n",
    "    sales_c.append(row['Location Sales Volume Code'].values.item())\n",
    "    empl.append(row['Employee Size (5) - Location'].values.item())\n",
    "    sales.append(row['Sales Volume (9) - Location'].values.item())\n",
    "    year.append(row['Year Established'].values.item())\n",
    "company_names_list = list(follower_edges.company_names)"
   ]
  },
  {
   "cell_type": "code",
   "execution_count": 169,
   "metadata": {},
   "outputs": [],
   "source": [
    "data_filtered = pd.DataFrame(list(zip(abi_list, company_names_list, empl_c,sales_c,empl,sales,year)),columns=['abi','company_names','empl_c','sales_c','empl','sales','year'])"
   ]
  },
  {
   "cell_type": "code",
   "execution_count": 170,
   "metadata": {},
   "outputs": [
    {
     "data": {
      "text/html": [
       "<div>\n",
       "<style scoped>\n",
       "    .dataframe tbody tr th:only-of-type {\n",
       "        vertical-align: middle;\n",
       "    }\n",
       "\n",
       "    .dataframe tbody tr th {\n",
       "        vertical-align: top;\n",
       "    }\n",
       "\n",
       "    .dataframe thead th {\n",
       "        text-align: right;\n",
       "    }\n",
       "</style>\n",
       "<table border=\"1\" class=\"dataframe\">\n",
       "  <thead>\n",
       "    <tr style=\"text-align: right;\">\n",
       "      <th></th>\n",
       "      <th>abi</th>\n",
       "      <th>company_names</th>\n",
       "      <th>empl_c</th>\n",
       "      <th>sales_c</th>\n",
       "      <th>empl</th>\n",
       "      <th>sales</th>\n",
       "      <th>year</th>\n",
       "    </tr>\n",
       "  </thead>\n",
       "  <tbody>\n",
       "    <tr>\n",
       "      <td>0</td>\n",
       "      <td>998836456</td>\n",
       "      <td>@SwiftSystemsInc</td>\n",
       "      <td>D</td>\n",
       "      <td>E</td>\n",
       "      <td>20.0</td>\n",
       "      <td>8020.0</td>\n",
       "      <td>1998.0</td>\n",
       "    </tr>\n",
       "    <tr>\n",
       "      <td>1</td>\n",
       "      <td>998834196</td>\n",
       "      <td>@netedfound</td>\n",
       "      <td>A</td>\n",
       "      <td>B</td>\n",
       "      <td>3.0</td>\n",
       "      <td>801.0</td>\n",
       "      <td>1998.0</td>\n",
       "    </tr>\n",
       "    <tr>\n",
       "      <td>2</td>\n",
       "      <td>998823546</td>\n",
       "      <td>@mediatechplus</td>\n",
       "      <td>B</td>\n",
       "      <td>C</td>\n",
       "      <td>9.0</td>\n",
       "      <td>2238.0</td>\n",
       "      <td>2004.0</td>\n",
       "    </tr>\n",
       "    <tr>\n",
       "      <td>3</td>\n",
       "      <td>998814818</td>\n",
       "      <td>@systemtools</td>\n",
       "      <td>D</td>\n",
       "      <td>F</td>\n",
       "      <td>49.0</td>\n",
       "      <td>19648.0</td>\n",
       "      <td>1999.0</td>\n",
       "    </tr>\n",
       "    <tr>\n",
       "      <td>4</td>\n",
       "      <td>998684013</td>\n",
       "      <td>@TrackerDesigns</td>\n",
       "      <td>A</td>\n",
       "      <td>A</td>\n",
       "      <td>2.0</td>\n",
       "      <td>229.0</td>\n",
       "      <td>NaN</td>\n",
       "    </tr>\n",
       "    <tr>\n",
       "      <td>...</td>\n",
       "      <td>...</td>\n",
       "      <td>...</td>\n",
       "      <td>...</td>\n",
       "      <td>...</td>\n",
       "      <td>...</td>\n",
       "      <td>...</td>\n",
       "      <td>...</td>\n",
       "    </tr>\n",
       "    <tr>\n",
       "      <td>11887</td>\n",
       "      <td>4318879</td>\n",
       "      <td>@cmdalkon</td>\n",
       "      <td>E</td>\n",
       "      <td>F</td>\n",
       "      <td>75.0</td>\n",
       "      <td>12263.0</td>\n",
       "      <td>1964.0</td>\n",
       "    </tr>\n",
       "    <tr>\n",
       "      <td>11888</td>\n",
       "      <td>4016887</td>\n",
       "      <td>@ninestarconnect</td>\n",
       "      <td>E</td>\n",
       "      <td>F</td>\n",
       "      <td>70.0</td>\n",
       "      <td>12393.0</td>\n",
       "      <td>1895.0</td>\n",
       "    </tr>\n",
       "    <tr>\n",
       "      <td>11889</td>\n",
       "      <td>2302651</td>\n",
       "      <td>@mpw_tweets</td>\n",
       "      <td>G</td>\n",
       "      <td>H</td>\n",
       "      <td>301.0</td>\n",
       "      <td>53650.0</td>\n",
       "      <td>1900.0</td>\n",
       "    </tr>\n",
       "    <tr>\n",
       "      <td>11890</td>\n",
       "      <td>2289494</td>\n",
       "      <td>@dftcomm</td>\n",
       "      <td>F</td>\n",
       "      <td>E</td>\n",
       "      <td>100.0</td>\n",
       "      <td>8866.0</td>\n",
       "      <td>1898.0</td>\n",
       "    </tr>\n",
       "    <tr>\n",
       "      <td>11891</td>\n",
       "      <td>2287498</td>\n",
       "      <td>@iacommalliance</td>\n",
       "      <td>C</td>\n",
       "      <td>D</td>\n",
       "      <td>13.0</td>\n",
       "      <td>2923.0</td>\n",
       "      <td>1905.0</td>\n",
       "    </tr>\n",
       "  </tbody>\n",
       "</table>\n",
       "<p>11892 rows × 7 columns</p>\n",
       "</div>"
      ],
      "text/plain": [
       "             abi     company_names empl_c sales_c   empl    sales    year\n",
       "0      998836456  @SwiftSystemsInc      D       E   20.0   8020.0  1998.0\n",
       "1      998834196       @netedfound      A       B    3.0    801.0  1998.0\n",
       "2      998823546    @mediatechplus      B       C    9.0   2238.0  2004.0\n",
       "3      998814818      @systemtools      D       F   49.0  19648.0  1999.0\n",
       "4      998684013   @TrackerDesigns      A       A    2.0    229.0     NaN\n",
       "...          ...               ...    ...     ...    ...      ...     ...\n",
       "11887    4318879         @cmdalkon      E       F   75.0  12263.0  1964.0\n",
       "11888    4016887  @ninestarconnect      E       F   70.0  12393.0  1895.0\n",
       "11889    2302651       @mpw_tweets      G       H  301.0  53650.0  1900.0\n",
       "11890    2289494          @dftcomm      F       E  100.0   8866.0  1898.0\n",
       "11891    2287498   @iacommalliance      C       D   13.0   2923.0  1905.0\n",
       "\n",
       "[11892 rows x 7 columns]"
      ]
     },
     "execution_count": 170,
     "metadata": {},
     "output_type": "execute_result"
    }
   ],
   "source": [
    "data_filtered"
   ]
  },
  {
   "cell_type": "code",
   "execution_count": 171,
   "metadata": {},
   "outputs": [
    {
     "data": {
      "text/plain": [
       "Index(['Unnamed: 0', 'Company', 'Address Line 1', 'City', 'State', 'ZipCode',\n",
       "       'Zip4', 'County Code', 'Area Code', 'IDCode',\n",
       "       'Location Employee Size Code', 'Location Sales Volume Code',\n",
       "       'Primary SIC Code', 'SIC6_Descriptions', 'Primary NAICS Code',\n",
       "       'NAICS8 Descriptions', 'SIC Code', 'SIC6_Descriptions (SIC)',\n",
       "       'SIC Code 1', 'SIC6_Descriptions (SIC1)', 'SIC Code 2',\n",
       "       'SIC6_Descriptions(SIC2)', 'SIC Code 3', 'SIC6_Descriptions(SIC3)',\n",
       "       'SIC Code 4', 'SIC6_Descriptions(SIC4)', 'Archive Version Year',\n",
       "       'Yellow Page Code', 'Employee Size (5) - Location',\n",
       "       'Sales Volume (9) - Location', 'Business Status Code',\n",
       "       'Industry Specific First Byte', 'Year Established', 'Office Size Code',\n",
       "       'Company Holding Status', 'ABI', 'Subsidiary Number', 'Parent Number',\n",
       "       'Parent Actual Employee Size', 'Parent Actual Sales Volume',\n",
       "       'Parent Employee Size Code', 'Parent Sales Volume Code', 'Site Number',\n",
       "       'Address Type Indicator', 'Population Code', 'Census Tract',\n",
       "       'Census Block', 'Latitude', 'Longitude', 'Match Code', 'CBSA Code',\n",
       "       'CBSA Level', 'CSA Code', 'FIPS Code', 'State_long'],\n",
       "      dtype='object')"
      ]
     },
     "execution_count": 171,
     "metadata": {},
     "output_type": "execute_result"
    }
   ],
   "source": [
    "data.columns"
   ]
  },
  {
   "cell_type": "code",
   "execution_count": 172,
   "metadata": {},
   "outputs": [],
   "source": [
    "data_filtered.to_csv('/Users/dorianbenutzer/Desktop/Masterthesis/Scripts/data/Q2/data_filtered_regression.csv')\n"
   ]
  },
  {
   "cell_type": "markdown",
   "metadata": {},
   "source": [
    "# Problem: Twitter has not the correct website!\n",
    "Solution: Change toms-burgers to Twitter, this should not be to bad since Twitter website \n",
    "does not have to many out going hyplinks anyway! Distortion is larger if no one can link to Twitter!\n",
    "\n",
    "\n",
    "\n",
    "No Twitter has to be excluded if it is part of the network it is distorting the analysis very strongly"
   ]
  },
  {
   "cell_type": "code",
   "execution_count": 86,
   "metadata": {},
   "outputs": [],
   "source": [
    "hyperlink_edges.iloc[3388,2] = 'xxyyxx'"
   ]
  },
  {
   "cell_type": "code",
   "execution_count": 92,
   "metadata": {},
   "outputs": [
    {
     "data": {
      "text/html": [
       "<div>\n",
       "<style scoped>\n",
       "    .dataframe tbody tr th:only-of-type {\n",
       "        vertical-align: middle;\n",
       "    }\n",
       "\n",
       "    .dataframe tbody tr th {\n",
       "        vertical-align: top;\n",
       "    }\n",
       "\n",
       "    .dataframe thead th {\n",
       "        text-align: right;\n",
       "    }\n",
       "</style>\n",
       "<table border=\"1\" class=\"dataframe\">\n",
       "  <thead>\n",
       "    <tr style=\"text-align: right;\">\n",
       "      <th></th>\n",
       "      <th>Unnamed: 0</th>\n",
       "      <th>company_names</th>\n",
       "      <th>nodes</th>\n",
       "      <th>ABI</th>\n",
       "      <th>edges</th>\n",
       "    </tr>\n",
       "  </thead>\n",
       "  <tbody>\n",
       "  </tbody>\n",
       "</table>\n",
       "</div>"
      ],
      "text/plain": [
       "Empty DataFrame\n",
       "Columns: [Unnamed: 0, company_names, nodes, ABI, edges]\n",
       "Index: []"
      ]
     },
     "execution_count": 92,
     "metadata": {},
     "output_type": "execute_result"
    }
   ],
   "source": [
    "hyperlink_edges.loc[hyperlink_edges.company_names =='@Apple']#.drop_row()"
   ]
  },
  {
   "cell_type": "markdown",
   "metadata": {},
   "source": [
    "# Create followers graph"
   ]
  },
  {
   "cell_type": "code",
   "execution_count": 322,
   "metadata": {},
   "outputs": [
    {
     "data": {
      "text/html": [
       "<div>\n",
       "<style scoped>\n",
       "    .dataframe tbody tr th:only-of-type {\n",
       "        vertical-align: middle;\n",
       "    }\n",
       "\n",
       "    .dataframe tbody tr th {\n",
       "        vertical-align: top;\n",
       "    }\n",
       "\n",
       "    .dataframe thead th {\n",
       "        text-align: right;\n",
       "    }\n",
       "</style>\n",
       "<table border=\"1\" class=\"dataframe\">\n",
       "  <thead>\n",
       "    <tr style=\"text-align: right;\">\n",
       "      <th></th>\n",
       "      <th>company_names</th>\n",
       "      <th>nodes</th>\n",
       "      <th>edges</th>\n",
       "      <th>ABI</th>\n",
       "    </tr>\n",
       "  </thead>\n",
       "  <tbody>\n",
       "    <tr>\n",
       "      <td>1159</td>\n",
       "      <td>@twitter</td>\n",
       "      <td>783214</td>\n",
       "      <td>[880028463704363008, 18999188, 122265074590163...</td>\n",
       "      <td>723942782</td>\n",
       "    </tr>\n",
       "  </tbody>\n",
       "</table>\n",
       "</div>"
      ],
      "text/plain": [
       "     company_names   nodes                                              edges  \\\n",
       "1159      @twitter  783214  [880028463704363008, 18999188, 122265074590163...   \n",
       "\n",
       "            ABI  \n",
       "1159  723942782  "
      ]
     },
     "execution_count": 322,
     "metadata": {},
     "output_type": "execute_result"
    }
   ],
   "source": [
    "(follower_edges[follower_edges.company_names=='@twitter'])"
   ]
  },
  {
   "cell_type": "code",
   "execution_count": 323,
   "metadata": {},
   "outputs": [
    {
     "data": {
      "text/html": [
       "<div>\n",
       "<style scoped>\n",
       "    .dataframe tbody tr th:only-of-type {\n",
       "        vertical-align: middle;\n",
       "    }\n",
       "\n",
       "    .dataframe tbody tr th {\n",
       "        vertical-align: top;\n",
       "    }\n",
       "\n",
       "    .dataframe thead th {\n",
       "        text-align: right;\n",
       "    }\n",
       "</style>\n",
       "<table border=\"1\" class=\"dataframe\">\n",
       "  <thead>\n",
       "    <tr style=\"text-align: right;\">\n",
       "      <th></th>\n",
       "      <th>company_names</th>\n",
       "      <th>nodes</th>\n",
       "      <th>ABI</th>\n",
       "      <th>edges</th>\n",
       "    </tr>\n",
       "  </thead>\n",
       "  <tbody>\n",
       "    <tr>\n",
       "      <td>1259</td>\n",
       "      <td>@twitter</td>\n",
       "      <td>klageswebdesign.com</td>\n",
       "      <td>723942782</td>\n",
       "      <td>twitter.com,facebook.com,plus.google.com,linke...</td>\n",
       "    </tr>\n",
       "  </tbody>\n",
       "</table>\n",
       "</div>"
      ],
      "text/plain": [
       "     company_names                nodes        ABI  \\\n",
       "1259      @twitter  klageswebdesign.com  723942782   \n",
       "\n",
       "                                                  edges  \n",
       "1259  twitter.com,facebook.com,plus.google.com,linke...  "
      ]
     },
     "execution_count": 323,
     "metadata": {},
     "output_type": "execute_result"
    }
   ],
   "source": [
    "hyperlink_edges[hyperlink_edges.ABI==723942782]"
   ]
  },
  {
   "cell_type": "code",
   "execution_count": 221,
   "metadata": {},
   "outputs": [],
   "source": [
    "network = follower_edges\n",
    "nodes_list = [int(x) for x in list(network.nodes)]\n",
    "\n",
    "nxg = nx.DiGraph()\n",
    "for node in network.company_names:\n",
    "    nxg.add_node(node)"
   ]
  },
  {
   "cell_type": "code",
   "execution_count": 223,
   "metadata": {},
   "outputs": [],
   "source": [
    "degree = [] \n",
    "failed = 0\n",
    "for index, row in network.iterrows():\n",
    "    edges = row.edges\n",
    "    if edges != '[]' and '@' not in edges and edges != 'no_friends' : # the @ condition filters out protected users for them only the company name is given back\n",
    "        edges_list = [int(x) for x in edges.replace(' ','').replace('[','').replace(']','').split(',')]\n",
    "        counter = 0\n",
    "        for edge in edges_list:\n",
    "            if edge in (nodes_list):\n",
    "                counter +=1\n",
    "                \n",
    "                from_c = row.company_names\n",
    "                to_c = network.loc[network.nodes == edge].company_names.values.item()        \n",
    "                distance = distance_matrix.loc[from_c,to_c]\n",
    "                \n",
    "                nxg.add_edge(from_c , to_c, weight = float(distance))\n",
    "        degree.append(counter)\n",
    "    else:\n",
    "        failed+=1\n"
   ]
  },
  {
   "cell_type": "code",
   "execution_count": 225,
   "metadata": {},
   "outputs": [
    {
     "name": "stdout",
     "output_type": "stream",
     "text": [
      "Name: \n",
      "Type: DiGraph\n",
      "Number of nodes: 11894\n",
      "Number of edges: 120177\n",
      "Average in degree:  10.1040\n",
      "Average out degree:  10.1040\n"
     ]
    },
    {
     "data": {
      "text/plain": [
       "49.54778790473938"
      ]
     },
     "execution_count": 225,
     "metadata": {},
     "output_type": "execute_result"
    }
   ],
   "source": [
    "nx.write_gml(nxg, \"/Users/dorianbenutzer/Desktop/Masterthesis/Scripts/data/Graph/weighted_directed_followers_graph\")\n",
    "print(nx.info(nxg))\n"
   ]
  },
  {
   "cell_type": "code",
   "execution_count": 308,
   "metadata": {},
   "outputs": [],
   "source": [
    "followers_graph = nx.read_gml(\"/Users/dorianbenutzer/Desktop/Masterthesis/Scripts/data/Graph/weighted_directed_followers_graph\")\n",
    "hyplinks_graph = nx.read_gml(\"/Users/dorianbenutzer/Desktop/Masterthesis/Scripts/data/Graph/weighted_directed_hyplinks_graph\")"
   ]
  },
  {
   "cell_type": "code",
   "execution_count": 337,
   "metadata": {},
   "outputs": [
    {
     "data": {
      "text/plain": [
       "0"
      ]
     },
     "execution_count": 337,
     "metadata": {},
     "output_type": "execute_result"
    }
   ],
   "source": [
    "len(followers_graph.in_edges('@instagram'))\n",
    "#followers_graph.out_edges('@instagram') "
   ]
  },
  {
   "cell_type": "markdown",
   "metadata": {},
   "source": [
    "### Note: \n",
    "Twitter and Facebook would be linked on almost every website in the hyperlink network and would thereby distort the results heavily. Therefore they are being excluded from the Twitter follower network and the websites as well!"
   ]
  },
  {
   "cell_type": "code",
   "execution_count": 330,
   "metadata": {},
   "outputs": [
    {
     "data": {
      "text/plain": [
       "OutEdgeDataView([])"
      ]
     },
     "execution_count": 330,
     "metadata": {},
     "output_type": "execute_result"
    }
   ],
   "source": [
    "len(hyplinks_graph.in_edges('@twitter'))\n",
    "#hyplinks_graph.out_edges('@twitter') "
   ]
  },
  {
   "cell_type": "code",
   "execution_count": 311,
   "metadata": {},
   "outputs": [
    {
     "data": {
      "text/plain": [
       "AtlasView({'@cityofmiami': {'weight': 4142.8591431664145}})"
      ]
     },
     "execution_count": 311,
     "metadata": {},
     "output_type": "execute_result"
    }
   ],
   "source": [
    "'@twitter' in list(followers_graph.nodes())\n",
    "followers_graph['@twitter']"
   ]
  },
  {
   "cell_type": "code",
   "execution_count": 305,
   "metadata": {},
   "outputs": [],
   "source": [
    "nodes_h = hyplinks_graph.nodes()\n",
    "nodes_f = followers_graph.nodes()"
   ]
  },
  {
   "cell_type": "code",
   "execution_count": 296,
   "metadata": {},
   "outputs": [],
   "source": [
    "delete_n=[]\n",
    "for n in nodes_f:\n",
    "    if n not in nodes_h:\n",
    "        delete_n.append(n)"
   ]
  },
  {
   "cell_type": "code",
   "execution_count": 303,
   "metadata": {},
   "outputs": [
    {
     "name": "stdout",
     "output_type": "stream",
     "text": [
      "None\n"
     ]
    }
   ],
   "source": [
    "print(followers_graph)"
   ]
  },
  {
   "cell_type": "code",
   "execution_count": 306,
   "metadata": {},
   "outputs": [],
   "source": [
    "followers_graph.remove_node('@ShortcutsUSA')\n",
    "followers_graph.remove_node('@SolutionsCit')"
   ]
  },
  {
   "cell_type": "code",
   "execution_count": null,
   "metadata": {},
   "outputs": [],
   "source": [
    "followers_graph.remove_node('@twitter')\n",
    "followers_graph.remove_node('@facebook')\n",
    "hyplinks_graph.remove_node('@twitter')\n",
    "hyplinks_graph.remove_node('@facebook')"
   ]
  },
  {
   "cell_type": "code",
   "execution_count": 343,
   "metadata": {},
   "outputs": [
    {
     "name": "stdout",
     "output_type": "stream",
     "text": [
      "Name: \n",
      "Type: DiGraph\n",
      "Number of nodes: 11890\n",
      "Number of edges: 117396\n",
      "Average in degree:   9.8735\n",
      "Average out degree:   9.8735\n"
     ]
    }
   ],
   "source": [
    "nx.write_gml(followers_graph, \"/Users/dorianbenutzer/Desktop/Masterthesis/Scripts/data/Graph/weighted_directed_followers_graph2\")\n",
    "print(nx.info(followers_graph))\n",
    "nx.write_gml(hyplinks_graph, \"/Users/dorianbenutzer/Desktop/Masterthesis/Scripts/data/Graph/weighted_directed_hyplinks_graph2\")\n",
    "\n",
    "\n"
   ]
  },
  {
   "cell_type": "markdown",
   "metadata": {},
   "source": [
    "# Create hyperlinks graph"
   ]
  },
  {
   "cell_type": "code",
   "execution_count": 278,
   "metadata": {},
   "outputs": [
    {
     "name": "stdout",
     "output_type": "stream",
     "text": [
      "11892\n"
     ]
    }
   ],
   "source": [
    "nxg = nx.DiGraph()\n",
    "network = hyperlink_edges\n",
    "for node in network.company_names:\n",
    "    #print('We are at node: ',node)\n",
    "    nxg.add_node(node)\n",
    "print(len(network))"
   ]
  },
  {
   "cell_type": "code",
   "execution_count": 279,
   "metadata": {},
   "outputs": [
    {
     "name": "stdout",
     "output_type": "stream",
     "text": [
      "Name: \n",
      "Type: DiGraph\n",
      "Number of nodes: 11892\n",
      "Number of edges: 5671\n",
      "Average in degree:   0.4769\n",
      "Average out degree:   0.4769\n"
     ]
    }
   ],
   "source": [
    "failed = 0\n",
    "s = time.time()\n",
    "hyperlink_nodes = list(hyperlink_edges.nodes)\n",
    "\n",
    "degree = []\n",
    "adding_edge =0\n",
    "for index, row in network.iterrows():\n",
    "    edges = row.edges\n",
    "    if pd.notnull(edges) == True: \n",
    "        edges_list = edges.split(',')\n",
    "        counter = 0\n",
    "        for edge in edges_list:\n",
    "            if edge in (hyperlink_nodes):\n",
    "                counter+=1\n",
    "                from_c = row.company_names\n",
    "                to_c = network.loc[network.nodes == edge].company_names.values.item()\n",
    "                distance = distance_matrix.loc[from_c,to_c]\n",
    "                adding_edge +=1\n",
    "                #print(adding_edge)\n",
    "                nxg.add_edge(from_c , to_c, weight = float(distance))\n",
    "        degree.append(counter)\n",
    "    else:\n",
    "        failed+=1\n",
    "\n",
    "print(nx.info(nxg))\n",
    "e = time.time()\n",
    "\n",
    "\n"
   ]
  },
  {
   "cell_type": "code",
   "execution_count": 280,
   "metadata": {},
   "outputs": [
    {
     "data": {
      "text/plain": [
       "39.040776014328"
      ]
     },
     "execution_count": 280,
     "metadata": {},
     "output_type": "execute_result"
    }
   ],
   "source": [
    "e-s"
   ]
  },
  {
   "cell_type": "code",
   "execution_count": 281,
   "metadata": {},
   "outputs": [],
   "source": [
    "nx.write_gml(nxg, \"/Users/dorianbenutzer/Desktop/Masterthesis/Scripts/data/Graph/weighted_directed_hyplinks_graph\")\n",
    "\n"
   ]
  },
  {
   "cell_type": "code",
   "execution_count": null,
   "metadata": {},
   "outputs": [],
   "source": []
  },
  {
   "cell_type": "code",
   "execution_count": 101,
   "metadata": {},
   "outputs": [
    {
     "name": "stdout",
     "output_type": "stream",
     "text": [
      "1804\n"
     ]
    },
    {
     "name": "stderr",
     "output_type": "stream",
     "text": [
      "/Applications/anaconda3/lib/python3.7/site-packages/ipykernel_launcher.py:39: MatplotlibDeprecationWarning: \n",
      "The dedent function was deprecated in Matplotlib 3.1 and will be removed in 3.3. Use inspect.cleandoc instead.\n",
      "/Applications/anaconda3/lib/python3.7/site-packages/ipykernel_launcher.py:50: MatplotlibDeprecationWarning: \n",
      "The dedent function was deprecated in Matplotlib 3.1 and will be removed in 3.3. Use inspect.cleandoc instead.\n",
      "/Applications/anaconda3/lib/python3.7/site-packages/ipykernel_launcher.py:51: MatplotlibDeprecationWarning: \n",
      "The dedent function was deprecated in Matplotlib 3.1 and will be removed in 3.3. Use inspect.cleandoc instead.\n"
     ]
    },
    {
     "data": {
      "image/png": "[encoded data removed]",
      "text/plain": [
       "<Figure size 1080x1440 with 1 Axes>"
      ]
     },
     "metadata": {},
     "output_type": "display_data"
    }
   ],
   "source": [
    "G = nxg\n",
    "p = dict(nx.degree(nxg))\n",
    "path =''\n",
    "plot_map(p, G,path,save=False, normalize =False, factor = 1)"
   ]
  },
  {
   "cell_type": "code",
   "execution_count": 70,
   "metadata": {},
   "outputs": [],
   "source": [
    "import matplotlib.pyplot as plt\n",
    "from mpl_toolkits.basemap import Basemap as Basemap\n",
    "\n",
    "\n",
    "def plot_map(p, G,path,save, normalize =True, factor = 1000):\n",
    "    node_sizes = []\n",
    "    # normalize with q75\n",
    "    q75 = np.quantile(list(p.values()), 0.75)\n",
    "    if normalize:\n",
    "        maxx = max(p.values())\n",
    "        for key in p.keys():\n",
    "            val = p[key]\n",
    "            if val > q75:\n",
    "                p[key] = (val-q75)/(maxx-q75)\n",
    "    alphas = []\n",
    "    nodes = []\n",
    "    colors = {}\n",
    "    counter =0\n",
    "    for n in G.nodes():\n",
    "        val = p[n]\n",
    "        colors[n] = val\n",
    "        if val <= q75:\n",
    "            alphas.append(0.1)\n",
    "            node_sizes.append(5)\n",
    "        else:\n",
    "            alphas.append(0.9)\n",
    "            node_sizes.append(val*factor)\n",
    "            counter += 1\n",
    "    print(counter)\n",
    "    plt.figure(figsize=(15,20))\n",
    "    m = Basemap(\n",
    "    projection = 'cyl',\n",
    "    llcrnrlon=-180,\n",
    "    llcrnrlat=10,\n",
    "    urcrnrlon=-50,\n",
    "    urcrnrlat=70,\n",
    "    lat_ts=0,\n",
    "    resolution='l',\n",
    "    suppress_ticks=True)\n",
    "    nx.draw_networkx_edges(G, pos_dic,  alpha=0.1, edge_color ='#A9A9A9',arrows =False)\n",
    "    nc = nx.draw_networkx_nodes(\n",
    "        G,\n",
    "        pos_dic,\n",
    "        nodelist=G.nodes(),\n",
    "        node_size = node_sizes,\n",
    "        node_color=list(colors.values()),\n",
    "        alpha = alphas\n",
    "    )\n",
    "    plt.axis(\"off\")\n",
    "    m.drawcountries(linewidth = 1)\n",
    "    m.drawstates(linewidth = 0.2)\n",
    "    m.drawcoastlines(linewidth=1)\n",
    "    plt.tight_layout()\n",
    "    if save:\n",
    "        plt.savefig(path, format = \"png\", dpi = 300)\n",
    "    plt.tight_layout()\n",
    "    plt.show()"
   ]
  },
  {
   "cell_type": "code",
   "execution_count": null,
   "metadata": {},
   "outputs": [],
   "source": [
    "# Warum ist twitter und facebook nicht unter den nodes??"
   ]
  },
  {
   "cell_type": "markdown",
   "metadata": {},
   "source": [
    "# Check first graph data merging steps"
   ]
  },
  {
   "cell_type": "code",
   "execution_count": 174,
   "metadata": {},
   "outputs": [],
   "source": [
    "data = pd.read_csv('/Users/dorianbenutzer/Desktop/Digital_Twitter_Layer_local/data/Jan/15k_software_twitter_handle.csv')"
   ]
  },
  {
   "cell_type": "code",
   "execution_count": 175,
   "metadata": {},
   "outputs": [
    {
     "data": {
      "text/html": [
       "<div>\n",
       "<style scoped>\n",
       "    .dataframe tbody tr th:only-of-type {\n",
       "        vertical-align: middle;\n",
       "    }\n",
       "\n",
       "    .dataframe tbody tr th {\n",
       "        vertical-align: top;\n",
       "    }\n",
       "\n",
       "    .dataframe thead th {\n",
       "        text-align: right;\n",
       "    }\n",
       "</style>\n",
       "<table border=\"1\" class=\"dataframe\">\n",
       "  <thead>\n",
       "    <tr style=\"text-align: right;\">\n",
       "      <th></th>\n",
       "      <th>Unnamed: 0</th>\n",
       "      <th>ABI</th>\n",
       "      <th>dl_slot</th>\n",
       "      <th>error</th>\n",
       "      <th>confidence</th>\n",
       "      <th>links</th>\n",
       "      <th>Twitter_handle</th>\n",
       "      <th>comp_id</th>\n",
       "    </tr>\n",
       "  </thead>\n",
       "  <tbody>\n",
       "    <tr>\n",
       "      <td>0</td>\n",
       "      <td>17</td>\n",
       "      <td>998836456</td>\n",
       "      <td>swiftsystems.com</td>\n",
       "      <td>None</td>\n",
       "      <td>0.95</td>\n",
       "      <td>a2la.org,wrightmfg.com,amsvendors.com,cityoffr...</td>\n",
       "      <td>@SwiftSystemsInc</td>\n",
       "      <td>1209347202</td>\n",
       "    </tr>\n",
       "    <tr>\n",
       "      <td>1</td>\n",
       "      <td>18</td>\n",
       "      <td>998834196</td>\n",
       "      <td>neted.org</td>\n",
       "      <td>None</td>\n",
       "      <td>0.50</td>\n",
       "      <td>netcaucus.org,ilpfoundry.us,stateofthenet.org,...</td>\n",
       "      <td>@netedfound</td>\n",
       "      <td>2398573820</td>\n",
       "    </tr>\n",
       "    <tr>\n",
       "      <td>2</td>\n",
       "      <td>20</td>\n",
       "      <td>998823546</td>\n",
       "      <td>mediatechplus.com</td>\n",
       "      <td>None</td>\n",
       "      <td>0.60</td>\n",
       "      <td>shop.mediatechplus.com,twitter.com,facebook.co...</td>\n",
       "      <td>@mediatechplus</td>\n",
       "      <td>37919797</td>\n",
       "    </tr>\n",
       "    <tr>\n",
       "      <td>3</td>\n",
       "      <td>23</td>\n",
       "      <td>998814818</td>\n",
       "      <td>systemtools.com</td>\n",
       "      <td>None</td>\n",
       "      <td>0.45</td>\n",
       "      <td>twitter.com,toolboard.systemtools.com,systemto...</td>\n",
       "      <td>@systemtools</td>\n",
       "      <td>48332614</td>\n",
       "    </tr>\n",
       "    <tr>\n",
       "      <td>4</td>\n",
       "      <td>44</td>\n",
       "      <td>998684013</td>\n",
       "      <td>trackerdesigns.com</td>\n",
       "      <td>None</td>\n",
       "      <td>1.00</td>\n",
       "      <td>twitter.com,facebook.com</td>\n",
       "      <td>@TrackerDesigns</td>\n",
       "      <td>78919760</td>\n",
       "    </tr>\n",
       "    <tr>\n",
       "      <td>...</td>\n",
       "      <td>...</td>\n",
       "      <td>...</td>\n",
       "      <td>...</td>\n",
       "      <td>...</td>\n",
       "      <td>...</td>\n",
       "      <td>...</td>\n",
       "      <td>...</td>\n",
       "      <td>...</td>\n",
       "    </tr>\n",
       "    <tr>\n",
       "      <td>15119</td>\n",
       "      <td>112578</td>\n",
       "      <td>4016887</td>\n",
       "      <td>ninestarconnect.com</td>\n",
       "      <td>None</td>\n",
       "      <td>0.50</td>\n",
       "      <td>powermoves.com,webmail.myninestar.net,NineStar...</td>\n",
       "      <td>@ninestarconnect</td>\n",
       "      <td>52791330</td>\n",
       "    </tr>\n",
       "    <tr>\n",
       "      <td>15120</td>\n",
       "      <td>112618</td>\n",
       "      <td>2302651</td>\n",
       "      <td>mpw.org</td>\n",
       "      <td>None</td>\n",
       "      <td>0.85</td>\n",
       "      <td>muscatine.com,spinutech.com,muscatineiowa.gov,...</td>\n",
       "      <td>@mpw_tweets</td>\n",
       "      <td>570280011</td>\n",
       "    </tr>\n",
       "    <tr>\n",
       "      <td>15121</td>\n",
       "      <td>112624</td>\n",
       "      <td>2289494</td>\n",
       "      <td>dftcommunications.com</td>\n",
       "      <td>None</td>\n",
       "      <td>0.55</td>\n",
       "      <td>twitter.com,fastsupport.gotoassist.com,instagr...</td>\n",
       "      <td>@dftcomm</td>\n",
       "      <td>83918924</td>\n",
       "    </tr>\n",
       "    <tr>\n",
       "      <td>15122</td>\n",
       "      <td>112627</td>\n",
       "      <td>2287498</td>\n",
       "      <td>iacommunicationsall.org</td>\n",
       "      <td>None</td>\n",
       "      <td>0.50</td>\n",
       "      <td>vimeo.com,memberclicks.com,twitter.com,faceboo...</td>\n",
       "      <td>@iacommalliance</td>\n",
       "      <td>2230678370</td>\n",
       "    </tr>\n",
       "    <tr>\n",
       "      <td>15123</td>\n",
       "      <td>112629</td>\n",
       "      <td>2286581</td>\n",
       "      <td>chickamauga.com</td>\n",
       "      <td>None</td>\n",
       "      <td>1.00</td>\n",
       "      <td>twitter.com,mail.nexband.com,instagram.com,fac...</td>\n",
       "      <td>@ChickamaugaTel</td>\n",
       "      <td>915655653137534977</td>\n",
       "    </tr>\n",
       "  </tbody>\n",
       "</table>\n",
       "<p>15124 rows × 8 columns</p>\n",
       "</div>"
      ],
      "text/plain": [
       "       Unnamed: 0        ABI                  dl_slot error  confidence  \\\n",
       "0              17  998836456         swiftsystems.com  None        0.95   \n",
       "1              18  998834196                neted.org  None        0.50   \n",
       "2              20  998823546        mediatechplus.com  None        0.60   \n",
       "3              23  998814818          systemtools.com  None        0.45   \n",
       "4              44  998684013       trackerdesigns.com  None        1.00   \n",
       "...           ...        ...                      ...   ...         ...   \n",
       "15119      112578    4016887      ninestarconnect.com  None        0.50   \n",
       "15120      112618    2302651                  mpw.org  None        0.85   \n",
       "15121      112624    2289494    dftcommunications.com  None        0.55   \n",
       "15122      112627    2287498  iacommunicationsall.org  None        0.50   \n",
       "15123      112629    2286581          chickamauga.com  None        1.00   \n",
       "\n",
       "                                                   links    Twitter_handle  \\\n",
       "0      a2la.org,wrightmfg.com,amsvendors.com,cityoffr...  @SwiftSystemsInc   \n",
       "1      netcaucus.org,ilpfoundry.us,stateofthenet.org,...       @netedfound   \n",
       "2      shop.mediatechplus.com,twitter.com,facebook.co...    @mediatechplus   \n",
       "3      twitter.com,toolboard.systemtools.com,systemto...      @systemtools   \n",
       "4                               twitter.com,facebook.com   @TrackerDesigns   \n",
       "...                                                  ...               ...   \n",
       "15119  powermoves.com,webmail.myninestar.net,NineStar...  @ninestarconnect   \n",
       "15120  muscatine.com,spinutech.com,muscatineiowa.gov,...       @mpw_tweets   \n",
       "15121  twitter.com,fastsupport.gotoassist.com,instagr...          @dftcomm   \n",
       "15122  vimeo.com,memberclicks.com,twitter.com,faceboo...   @iacommalliance   \n",
       "15123  twitter.com,mail.nexband.com,instagram.com,fac...   @ChickamaugaTel   \n",
       "\n",
       "                  comp_id  \n",
       "0              1209347202  \n",
       "1              2398573820  \n",
       "2                37919797  \n",
       "3                48332614  \n",
       "4                78919760  \n",
       "...                   ...  \n",
       "15119            52791330  \n",
       "15120           570280011  \n",
       "15121            83918924  \n",
       "15122          2230678370  \n",
       "15123  915655653137534977  \n",
       "\n",
       "[15124 rows x 8 columns]"
      ]
     },
     "execution_count": 175,
     "metadata": {},
     "output_type": "execute_result"
    }
   ],
   "source": [
    "data"
   ]
  },
  {
   "cell_type": "code",
   "execution_count": 177,
   "metadata": {},
   "outputs": [
    {
     "data": {
      "text/plain": [
       "{'apple', 'banana'}"
      ]
     },
     "execution_count": 177,
     "metadata": {},
     "output_type": "execute_result"
    }
   ],
   "source": [
    "a = [ \"banana\",\"apple\", \"cherry\"]\n",
    "b = [\"cherry\"]\n",
    "\n",
    "final_handles = set(a)-set(b)\n",
    "final_handles"
   ]
  },
  {
   "cell_type": "code",
   "execution_count": 180,
   "metadata": {},
   "outputs": [
    {
     "data": {
      "text/html": [
       "<div>\n",
       "<style scoped>\n",
       "    .dataframe tbody tr th:only-of-type {\n",
       "        vertical-align: middle;\n",
       "    }\n",
       "\n",
       "    .dataframe tbody tr th {\n",
       "        vertical-align: top;\n",
       "    }\n",
       "\n",
       "    .dataframe thead th {\n",
       "        text-align: right;\n",
       "    }\n",
       "</style>\n",
       "<table border=\"1\" class=\"dataframe\">\n",
       "  <thead>\n",
       "    <tr style=\"text-align: right;\">\n",
       "      <th></th>\n",
       "      <th>company_names</th>\n",
       "      <th>nodes</th>\n",
       "      <th>edges</th>\n",
       "      <th>ABI</th>\n",
       "    </tr>\n",
       "  </thead>\n",
       "  <tbody>\n",
       "    <tr>\n",
       "      <td>11895</td>\n",
       "      <td>@iacommalliance</td>\n",
       "      <td>2230678370</td>\n",
       "      <td>[543626715, 2918734142, 494629576, 3239966226,...</td>\n",
       "      <td>2287498</td>\n",
       "    </tr>\n",
       "  </tbody>\n",
       "</table>\n",
       "</div>"
      ],
      "text/plain": [
       "         company_names       nodes  \\\n",
       "11895  @iacommalliance  2230678370   \n",
       "\n",
       "                                                   edges      ABI  \n",
       "11895  [543626715, 2918734142, 494629576, 3239966226,...  2287498  "
      ]
     },
     "execution_count": 180,
     "metadata": {},
     "output_type": "execute_result"
    }
   ],
   "source": [
    "#@iacommalliance\n",
    "follower_edges[follower_edges.company_names == '@iacommalliance']"
   ]
  },
  {
   "cell_type": "code",
   "execution_count": 199,
   "metadata": {},
   "outputs": [],
   "source": [
    "s = follower_edges.sample(20)"
   ]
  },
  {
   "cell_type": "code",
   "execution_count": 200,
   "metadata": {},
   "outputs": [
    {
     "data": {
      "text/plain": [
       "['@ClarityBizIT',\n",
       " '@resanalytics',\n",
       " '@cyberoptik',\n",
       " '@SunbirdDCIM',\n",
       " '@CST_Asheville',\n",
       " '@ensatraining',\n",
       " '@561media',\n",
       " '@StraightfaceHQ',\n",
       " '@energy0m',\n",
       " '@realtech_de',\n",
       " '@humanspan',\n",
       " '@istreethighway',\n",
       " '@CITIG',\n",
       " '@diradv',\n",
       " '@HIMSSAnalytics',\n",
       " '@retailpronews',\n",
       " '@chyronhego',\n",
       " '@farmerstel',\n",
       " '@tenfourit',\n",
       " '@Link4Controls']"
      ]
     },
     "execution_count": 200,
     "metadata": {},
     "output_type": "execute_result"
    }
   ],
   "source": [
    "list(s.company_names)"
   ]
  },
  {
   "cell_type": "code",
   "execution_count": 201,
   "metadata": {},
   "outputs": [],
   "source": [
    "ids = list(s.nodes)"
   ]
  },
  {
   "cell_type": "code",
   "execution_count": 202,
   "metadata": {},
   "outputs": [],
   "source": [
    "ids_test = [1604416627,\n",
    " 2291502409,\n",
    " 18731571,\n",
    " 3345874252,\n",
    " 1562357401,\n",
    " 1379901752,\n",
    " 374252861,\n",
    " 126072209,\n",
    " 16279050,\n",
    " 153877041,\n",
    " 3249514722,\n",
    " 4787025846,\n",
    " 242670966,\n",
    " 231453683,\n",
    " 253135252,\n",
    " 109443605,\n",
    " 17573554,\n",
    " 314804717,\n",
    " 205863270,\n",
    " 463107958]"
   ]
  },
  {
   "cell_type": "code",
   "execution_count": 203,
   "metadata": {},
   "outputs": [
    {
     "data": {
      "text/plain": [
       "True"
      ]
     },
     "execution_count": 203,
     "metadata": {},
     "output_type": "execute_result"
    }
   ],
   "source": [
    "ids == ids_test"
   ]
  },
  {
   "cell_type": "code",
   "execution_count": 198,
   "metadata": {},
   "outputs": [
    {
     "data": {
      "text/plain": [
       "True"
      ]
     },
     "execution_count": 198,
     "metadata": {},
     "output_type": "execute_result"
    }
   ],
   "source": [
    "ids == ids_test"
   ]
  },
  {
   "cell_type": "code",
   "execution_count": 190,
   "metadata": {},
   "outputs": [
    {
     "data": {
      "text/plain": [
       "True"
      ]
     },
     "execution_count": 190,
     "metadata": {},
     "output_type": "execute_result"
    }
   ],
   "source": [
    "ids == ids_test"
   ]
  },
  {
   "cell_type": "code",
   "execution_count": null,
   "metadata": {},
   "outputs": [],
   "source": []
  }
 ],
 "metadata": {
  "kernelspec": {
   "display_name": "Python 3",
   "language": "python",
   "name": "python3"
  },
  "language_info": {
   "codemirror_mode": {
    "name": "ipython",
    "version": 3
   },
   "file_extension": ".py",
   "mimetype": "text/x-python",
   "name": "python",
   "nbconvert_exporter": "python",
   "pygments_lexer": "ipython3",
   "version": "3.7.4"
  }
 },
 "nbformat": 4,
 "nbformat_minor": 2
}
