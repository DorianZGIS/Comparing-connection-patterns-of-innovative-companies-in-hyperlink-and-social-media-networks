{
 "cells": [
  {
   "cell_type": "code",
   "execution_count": 1,
   "metadata": {},
   "outputs": [
    {
     "name": "stderr",
     "output_type": "stream",
     "text": [
      "/Applications/anaconda3/lib/python3.7/site-packages/statsmodels/tools/_testing.py:19: FutureWarning: pandas.util.testing is deprecated. Use the functions in the public API at pandas.testing instead.\n",
      "  import pandas.util.testing as tm\n"
     ]
    }
   ],
   "source": [
    "import pandas as pd\n",
    "try:\n",
    "    import pickle5 as pickle\n",
    "except ImportError:  \n",
    "    import pickle\n",
    "import networkx as nx\n",
    "import time\n",
    "import numpy as np\n",
    "import matplotlib.pyplot as plt\n",
    "from mpl_toolkits.basemap import Basemap as Basemap\n",
    "import numpy as np\n",
    "import seaborn as sns"
   ]
  },
  {
   "cell_type": "code",
   "execution_count": 2,
   "metadata": {},
   "outputs": [],
   "source": [
    "def norm(v):\n",
    "    maxx = max(v)\n",
    "    minn = min(v)\n",
    "    norm_v = []\n",
    "    for val in v:\n",
    "        norm_val=(val-minn)/(maxx-minn)\n",
    "        norm_v.append(norm_val)\n",
    "    return norm_v"
   ]
  },
  {
   "cell_type": "code",
   "execution_count": null,
   "metadata": {},
   "outputs": [],
   "source": [
    "weighted_directed_hyplinks_graph = nx.read_gml(\"weighted_directed_hyplinks_graph\")\n",
    "weighted_directed_followers_graph = nx.read_gml(\"weighted_directed_followers_graph\")\n"
   ]
  },
  {
   "cell_type": "code",
   "execution_count": null,
   "metadata": {},
   "outputs": [],
   "source": [
    "#import positional dictionary which contains the geogrphic postions of the companies headquaters\n",
    "try:\n",
    "    import cPickle as pickle\n",
    "except ImportError:  \n",
    "    import pickle\n",
    "with open('pos_dic2_hyp.p', 'rb') as fp: \n",
    "    pos_dic = pickle.load(fp)"
   ]
  },
  {
   "cell_type": "code",
   "execution_count": 3,
   "metadata": {},
   "outputs": [],
   "source": [
    "#check whther both networks actually contain the same nodes\n",
    "n1 = list(weighted_directed_followers_graph.nodes())\n",
    "n2 = list(weighted_directed_hyplinks_graph.nodes())\n",
    "n1 == n2\n",
    "set(n1)==set(n2)"
   ]
  },
  {
   "cell_type": "code",
   "execution_count": 4,
   "metadata": {},
   "outputs": [
    {
     "name": "stdout",
     "output_type": "stream",
     "text": [
      "Name: \n",
      "Type: DiGraph\n",
      "Number of nodes: 11890\n",
      "Number of edges: 117396\n",
      "Average in degree:   9.8735\n",
      "Average out degree:   9.8735\n",
      "Name: \n",
      "Type: DiGraph\n",
      "Number of nodes: 11890\n",
      "Number of edges: 5670\n",
      "Average in degree:   0.4769\n",
      "Average out degree:   0.4769\n"
     ]
    }
   ],
   "source": [
    "print(nx.info(weighted_directed_followers_graph))\n",
    "print(nx.info(weighted_directed_hyplinks_graph))"
   ]
  },
  {
   "cell_type": "markdown",
   "metadata": {},
   "source": [
    "# Degree\n",
    "\n"
   ]
  },
  {
   "cell_type": "code",
   "execution_count": 19,
   "metadata": {},
   "outputs": [],
   "source": [
    "deg_hyp_in = weighted_directed_hyplinks_graph.in_degree()\n",
    "deg_hyp_in = dict(deg_hyp_in) \n",
    "deg_hyp_out = weighted_directed_hyplinks_graph.out_degree()\n",
    "deg_hyp_out = dict(deg_hyp_out)\n",
    "\n",
    "deg_foll_in = weighted_directed_followers_graph.in_degree()\n",
    "deg_foll_in = dict(deg_foll_in)   \n",
    "deg_foll_out = weighted_directed_followers_graph.out_degree()\n",
    "deg_foll_out = dict(deg_foll_out)  "
   ]
  },
  {
   "cell_type": "code",
   "execution_count": 25,
   "metadata": {},
   "outputs": [],
   "source": [
    "deg_h = dict(nx.degree(weighted_directed_hyplinks_graph))\n",
    "deg_f = dict(nx.degree(weighted_directed_followers_graph))"
   ]
  },
  {
   "cell_type": "code",
   "execution_count": 21,
   "metadata": {},
   "outputs": [
    {
     "data": {
      "text/plain": [
       "True"
      ]
     },
     "execution_count": 21,
     "metadata": {},
     "output_type": "execute_result"
    }
   ],
   "source": [
    "# sanity check\n",
    "list(deg_hyp_in.keys())==list(deg_hyp_out.keys())"
   ]
  },
  {
   "cell_type": "code",
   "execution_count": 42,
   "metadata": {},
   "outputs": [],
   "source": [
    "deg_h_l = []\n",
    "deg_f_l = []\n",
    "deg_hyp_in_values = []\n",
    "deg_hyp_out_values = []\n",
    "deg_foll_in_values = []\n",
    "deg_foll_out_values = []\n",
    "\n",
    "for key in weighted_directed_followers_graph.nodes():\n",
    "    deg_h_l.append(deg_h[key])\n",
    "    deg_f_l.append(deg_f[key])\n",
    "    deg_hyp_in_values.append(deg_hyp_in[key])\n",
    "    deg_hyp_out_values.append(deg_hyp_out[key])\n",
    "    deg_foll_in_values.append(deg_foll_in[key])\n",
    "    deg_foll_out_values.append(deg_foll_out[key])\n",
    "    "
   ]
  },
  {
   "cell_type": "code",
   "execution_count": 45,
   "metadata": {},
   "outputs": [
    {
     "data": {
      "text/plain": [
       "True"
      ]
     },
     "execution_count": 45,
     "metadata": {},
     "output_type": "execute_result"
    }
   ],
   "source": [
    "# sanity check\n",
    "list(weighted_directed_followers_graph.nodes()) == list(deg_foll_out.keys())"
   ]
  },
  {
   "cell_type": "code",
   "execution_count": 53,
   "metadata": {},
   "outputs": [],
   "source": [
    "degree = pd.DataFrame(list(zip(list(weighted_directed_followers_graph.nodes()),\n",
    "                                 (deg_h_l),\n",
    "                                 (deg_f_l),\n",
    "                                 (deg_hyp_in_values),\n",
    "                                 (deg_hyp_out_values),\n",
    "                                 deg_foll_in_values,\n",
    "                                 deg_foll_out_values)),\n",
    "                                 columns = ['nodes','degree_h','degree_f','deg_h_in','deg_h_out',\n",
    "                                   'deg_f_in','deg_f_out'])"
   ]
  },
  {
   "cell_type": "code",
   "execution_count": 54,
   "metadata": {},
   "outputs": [],
   "source": [
    "degree.to_csv('/Users/dorianbenutzer/Desktop/Masterthesis/Scripts/data/Q2/degree.csv')"
   ]
  },
  {
   "cell_type": "code",
   "execution_count": 67,
   "metadata": {},
   "outputs": [
    {
     "data": {
      "text/plain": [
       "0.47671094669581304"
      ]
     },
     "execution_count": 67,
     "metadata": {},
     "output_type": "execute_result"
    }
   ],
   "source": [
    "sum(deg_hyp_in_dic.values())/11894"
   ]
  },
  {
   "cell_type": "code",
   "execution_count": 68,
   "metadata": {},
   "outputs": [
    {
     "data": {
      "text/plain": [
       "0.47671094669581304"
      ]
     },
     "execution_count": 68,
     "metadata": {},
     "output_type": "execute_result"
    }
   ],
   "source": [
    "sum(deg_hyp_out_dic.values())/11894"
   ]
  },
  {
   "cell_type": "code",
   "execution_count": 69,
   "metadata": {},
   "outputs": [
    {
     "name": "stdout",
     "output_type": "stream",
     "text": [
      "117396\n",
      "117396\n",
      "5670\n",
      "5670\n"
     ]
    }
   ],
   "source": [
    "# values per nertwork\n",
    "print(sum(deg_foll_out_dic.values()))\n",
    "print(sum(deg_foll_in_dic.values()))\n",
    "print(sum(deg_hyp_out_dic.values()))\n",
    "print(sum(deg_hyp_in_dic.values()))"
   ]
  },
  {
   "cell_type": "markdown",
   "metadata": {},
   "source": [
    "## Create plots degree"
   ]
  },
  {
   "cell_type": "code",
   "execution_count": 8,
   "metadata": {},
   "outputs": [],
   "source": [
    "import pandas as pd\n",
    "import numpy as np\n",
    "import seaborn as sns"
   ]
  },
  {
   "cell_type": "code",
   "execution_count": 5,
   "metadata": {},
   "outputs": [],
   "source": [
    "degree = pd.read_csv('degree.csv')"
   ]
  },
  {
   "cell_type": "code",
   "execution_count": 6,
   "metadata": {},
   "outputs": [],
   "source": [
    "def norm(v):\n",
    "    maxx = max(v)\n",
    "    minn = min(v)\n",
    "    norm_v = []\n",
    "    for val in v:\n",
    "        norm_val=(val-minn)/(maxx-minn)\n",
    "        norm_v.append(norm_val)\n",
    "    return norm_v"
   ]
  },
  {
   "cell_type": "code",
   "execution_count": 11,
   "metadata": {},
   "outputs": [],
   "source": [
    "# out_degree\n",
    "x = norm((degree.deg_h_out))\n",
    "y = norm((degree.deg_f_out))\n",
    "#sns.jointplot(x,y, color=\"#4CB391\",kind=\"reg\")"
   ]
  },
  {
   "cell_type": "code",
   "execution_count": 10,
   "metadata": {},
   "outputs": [
    {
     "data": {
      "image/png": "[encoded data removed]",
      "text/plain": [
       "<Figure size 432x432 with 3 Axes>"
      ]
     },
     "metadata": {
      "needs_background": "light"
     },
     "output_type": "display_data"
    }
   ],
   "source": [
    "# out_degree log\n",
    "x = list(norm(np.log(degree.deg_h_out+1)))\n",
    "y = list(norm(np.log(degree.deg_f_out+1)))\n",
    "data = pd.DataFrame({\n",
    "    'Hyperlink Network': x,\n",
    "    'Follower Network': y,\n",
    "})\n",
    "h = sns.jointplot(x='Hyperlink Network', \n",
    "                  y='Follower Network',\n",
    "                  data=data,color=\"#4CB391\",kind=\"reg\",ylim = (-0.1,1.1),xlim = (-0.1,1.1),#color=\"#4CB391\"\n",
    "                 joint_kws={'line_kws':{'color':'0.7607843137254902'}})\n",
    "path = 'degree_out_log.png'\n",
    "#plt.savefig(path, format = \"png\", dpi = 300)"
   ]
  },
  {
   "cell_type": "markdown",
   "metadata": {},
   "source": [
    "### Non zeros\n",
    "Exclude all companies which do not have any connections at all"
   ]
  },
  {
   "cell_type": "code",
   "execution_count": 13,
   "metadata": {},
   "outputs": [],
   "source": [
    "deg = degree\n",
    "x1 = []\n",
    "x2 = []\n",
    "for ind, row in deg.iterrows():\n",
    "    deg_h = row.degree_h\n",
    "    deg_f = row.degree_f\n",
    "    if deg_h!=0:\n",
    "        if deg_f !=0:\n",
    "            if deg_h<=10:\n",
    "                x1.append(deg_h)\n",
    "                x2.append(deg_f)"
   ]
  },
  {
   "cell_type": "code",
   "execution_count": 12,
   "metadata": {},
   "outputs": [
    {
     "data": {
      "image/png": "[encoded data removed]",
      "text/plain": [
       "<Figure size 432x432 with 3 Axes>"
      ]
     },
     "metadata": {
      "needs_background": "light"
     },
     "output_type": "display_data"
    }
   ],
   "source": [
    "# out_degree_log_non_zeros\n",
    "# used in the study\n",
    "x = list(norm(np.log(degree.deg_h_out+1)))\n",
    "y = list(norm(np.log(degree.deg_f_out+1)))\n",
    "data = pd.DataFrame({\n",
    "    'Hyperlink Network': x,\n",
    "    'Follower Network': y,\n",
    "})\n",
    "h = sns.jointplot(x='Hyperlink Network', \n",
    "                  y='Follower Network',\n",
    "                  data=data,color=\"#4CB391\",kind=\"reg\",ylim = (-0.1,1.1),xlim = (-0.1,1.1))\n",
    "path = 'out_degree_log_non_zeros.png'\n",
    "#plt.savefig(path, format = \"png\", dpi = 300)"
   ]
  },
  {
   "cell_type": "markdown",
   "metadata": {},
   "source": [
    "# Closeness"
   ]
  },
  {
   "cell_type": "markdown",
   "metadata": {},
   "source": [
    "https://networkx.org/documentation/stable/reference/algorithms/generated/networkx.algorithms.centrality.closeness_centrality.html#networkx.algorithms.centrality.closeness_centrality"
   ]
  },
  {
   "cell_type": "markdown",
   "metadata": {},
   "source": [
    "### Inward"
   ]
  },
  {
   "cell_type": "code",
   "execution_count": 57,
   "metadata": {},
   "outputs": [
    {
     "name": "stdout",
     "output_type": "stream",
     "text": [
      "1.0181591510772705\n",
      "5.91278076171875e-05\n"
     ]
    }
   ],
   "source": [
    "start = time.time()\n",
    "closs_in_weighted_hyp = nx.closeness_centrality(weighted_directed_hyplinks_graph, distance=None, wf_improved=True)\n",
    "# wf_improved:  If True, scale by the fraction of nodes reachable. This gives the Wasserman and Faust improved formula. For single component graphs it is the same as the original formula.\n",
    "# Meaning good for not one component graphs\n",
    "print(time.time()-start)\n",
    "\n",
    "start = time.time()\n",
    "closs_in_weighted_foll = nx.closeness_centrality(weighted_directed_followers_graph, distance=None, wf_improved=True)\n",
    "# wf_improved:  If True, scale by the fraction of nodes reachable. This gives the Wasserman and Faust improved formula. For single component graphs it is the same as the original formula.\n",
    "# Meaning good for not one component graphs\n",
    "print(time.time()-start)"
   ]
  },
  {
   "cell_type": "markdown",
   "metadata": {},
   "source": [
    "### Outward"
   ]
  },
  {
   "cell_type": "code",
   "execution_count": 43,
   "metadata": {},
   "outputs": [
    {
     "name": "stdout",
     "output_type": "stream",
     "text": [
      "0.6504340171813965\n",
      "656.3440728187561\n"
     ]
    }
   ],
   "source": [
    "start = time.time()\n",
    "closs_out_weighted_hyp = nx.closeness_centrality(weighted_directed_hyplinks_graph.reverse(), distance=None, wf_improved=True)\n",
    "# wf_improved:  If True, scale by the fraction of nodes reachable. This gives the Wasserman and Faust improved formula. For single component graphs it is the same as the original formula.\n",
    "# Meaning good for not one component graphs\n",
    "print(time.time()-start)\n",
    "\n",
    "start = time.time()\n",
    "closs_out_weighted_foll = nx.closeness_centrality(weighted_directed_followers_graph.reverse(), distance=None, wf_improved=True)\n",
    "# wf_improved:  If True, scale by the fraction of nodes reachable. This gives the Wasserman and Faust improved formula. For single component graphs it is the same as the original formula.\n",
    "# Meaning good for not one component graphs\n",
    "print(time.time()-start)"
   ]
  },
  {
   "cell_type": "code",
   "execution_count": 121,
   "metadata": {},
   "outputs": [
    {
     "data": {
      "text/plain": [
       "1.0"
      ]
     },
     "execution_count": 121,
     "metadata": {},
     "output_type": "execute_result"
    }
   ],
   "source": [
    "max(norm(np.log(close.foll_in_close+1)))"
   ]
  },
  {
   "cell_type": "markdown",
   "metadata": {},
   "source": [
    "## Saving closeness"
   ]
  },
  {
   "cell_type": "code",
   "execution_count": 58,
   "metadata": {},
   "outputs": [],
   "source": [
    "hyp_in_close = []\n",
    "hyp_out_close = []\n",
    "foll_in_close = []\n",
    "foll_out_close = []\n",
    "\n",
    "for key in weighted_directed_followers_graph.nodes():\n",
    "    hyp_in_close.append(closs_in_weighted_hyp[key])\n",
    "    hyp_out_close.append(closs_out_weighted_hyp[key])\n",
    "    foll_in_close.append(closs_in_weighted_foll[key])\n",
    "    foll_out_close.append(closs_out_weighted_foll[key])\n",
    "    \n",
    "    "
   ]
  },
  {
   "cell_type": "code",
   "execution_count": 59,
   "metadata": {},
   "outputs": [],
   "source": [
    "close = pd.DataFrame(list(zip(list(weighted_directed_followers_graph.nodes()),\n",
    "                              hyp_in_close, hyp_out_close,\n",
    "                              foll_in_close, foll_out_close)),\n",
    "                     columns = ['nodes',\n",
    "                                'hyp_in_close', 'hyp_out_close', \n",
    "                                'foll_in_close', 'foll_out_close'])\n",
    "\n",
    "close.to_csv('closeness.csv')"
   ]
  },
  {
   "cell_type": "markdown",
   "metadata": {},
   "source": [
    "## Create plots closeness"
   ]
  },
  {
   "cell_type": "code",
   "execution_count": 16,
   "metadata": {},
   "outputs": [],
   "source": [
    "close = pd.read_csv('closeness.csv',index_col =0)"
   ]
  },
  {
   "cell_type": "code",
   "execution_count": 17,
   "metadata": {},
   "outputs": [
    {
     "data": {
      "image/png": "[encoded data removed]",
      "text/plain": [
       "<Figure size 432x432 with 3 Axes>"
      ]
     },
     "metadata": {
      "needs_background": "light"
     },
     "output_type": "display_data"
    }
   ],
   "source": [
    "#in_closeness\n",
    "x = norm(np.log(close.hyp_in_close+1))\n",
    "y = norm(np.log(close.foll_in_close+1))\n",
    "data = pd.DataFrame({\n",
    "    'Hyperlink Network': x,\n",
    "    'Follower Network': y,\n",
    "})\n",
    "h = sns.jointplot(x='Hyperlink Network', \n",
    "                  y='Follower Network',\n",
    "                  data=data,color=\"#4CB391\",kind=\"reg\", ylim = (-0.1,1.1),xlim = (-0.1,1.1))\n",
    "path = 'in_closeness.png'\n",
    "#plt.savefig(path, format = \"png\", dpi = 300)"
   ]
  },
  {
   "cell_type": "code",
   "execution_count": 18,
   "metadata": {},
   "outputs": [
    {
     "data": {
      "image/png": "[encoded data removed]",
      "text/plain": [
       "<Figure size 432x432 with 3 Axes>"
      ]
     },
     "metadata": {
      "needs_background": "light"
     },
     "output_type": "display_data"
    }
   ],
   "source": [
    "#out_closeness \n",
    "# used in the study\n",
    "\n",
    "x = norm(np.log(close.hyp_out_close+1))\n",
    "y = norm(np.log(close.foll_out_close+1))\n",
    "data = pd.DataFrame({\n",
    "    'Hyperlink Network': x,\n",
    "    'Follower Network': y,\n",
    "})\n",
    "h = sns.jointplot(x='Hyperlink Network', \n",
    "                  y='Follower Network',\n",
    "                  data=data,color=\"#4CB391\",kind=\"reg\", ylim = (-0.1,1.1),xlim = (-0.1,1.1))\n",
    "path = 'out_closeness.png'\n",
    "#plt.savefig(path, format = \"png\", dpi = 300)"
   ]
  },
  {
   "cell_type": "code",
   "execution_count": 126,
   "metadata": {},
   "outputs": [
    {
     "data": {
      "image/png": "[encoded data removed]",
      "text/plain": [
       "<Figure size 432x432 with 3 Axes>"
      ]
     },
     "metadata": {
      "needs_background": "light"
     },
     "output_type": "display_data"
    }
   ],
   "source": [
    "# out_closeness_non_zeros\n",
    "cl = close\n",
    "x1 = []\n",
    "x2 = []\n",
    "for ind, row in cl.iterrows():\n",
    "    helper1 = row.hyp_out_close\n",
    "    helper2 = row.foll_out_close\n",
    "    if helper1!=0:\n",
    "        if helper2 !=0:\n",
    "            x1.append(helper1)\n",
    "            x2.append(helper2)\n",
    "\n",
    "x = norm(np.log(x1))\n",
    "y = norm(np.log(x2))\n",
    "data = pd.DataFrame({\n",
    "        'Hyperlink Network': x,\n",
    "    'Follower Network': y,\n",
    "})\n",
    "h = sns.jointplot(x='Hyperlink Network', \n",
    "                  y='Follower Network',\n",
    "              data=data,color=\"#4CB391\",kind=\"reg\", ylim = (-0.1,1.1),xlim = (-0.1,1.1))\n",
    "path = 'out_closeness_non_zeros.png'\n",
    "plt.savefig(path, format = \"png\", dpi = 300)"
   ]
  },
  {
   "cell_type": "code",
   "execution_count": 30,
   "metadata": {},
   "outputs": [],
   "source": [
    "closs_in_weighted_hyp_norm = {}\n",
    "counter = 0\n",
    "maxx = max(closs_in_weighted_hyp.values())\n",
    "for key in closs_in_weighted_hyp.keys():\n",
    "    val = closs_in_weighted_hyp[key]\n",
    "    normed_val = val/maxx\n",
    "    closs_in_weighted_hyp_norm[key] = normed_val\n",
    "    #print(counter)\n",
    "    counter+=1\n",
    "closs_out_weighted_hyp_norm = {}\n",
    "counter = 0\n",
    "maxx = max(closs_out_weighted_hyp.values())\n",
    "for key in closs_out_weighted_hyp.keys():\n",
    "    val = closs_out_weighted_hyp[key]\n",
    "    normed_val = val/maxx\n",
    "    closs_out_weighted_hyp_norm[key] = normed_val\n",
    "    #print(counter)\n",
    "    counter+=1"
   ]
  },
  {
   "cell_type": "code",
   "execution_count": 45,
   "metadata": {},
   "outputs": [],
   "source": [
    "closs_in = {}\n",
    "maxx = max(closs_in_weighted_hyp.values())+1\n",
    "for key in closs_in_weighted_hyp.keys():\n",
    "    val = closs_in_weighted_hyp[key]+1\n",
    "    normed_val = (val-1)/(maxx-1)\n",
    "    closs_in[key] = normed_val"
   ]
  },
  {
   "cell_type": "code",
   "execution_count": 66,
   "metadata": {},
   "outputs": [
    {
     "name": "stdout",
     "output_type": "stream",
     "text": [
      "11894\n"
     ]
    }
   ],
   "source": [
    "X = list(closs_in_weighted_hyp.values())\n",
    "print(len(closs_in_weighted_hyp.values()))\n",
    "clos = [i for i in X if i != 0]"
   ]
  },
  {
   "cell_type": "markdown",
   "metadata": {},
   "source": [
    "# Betweenness"
   ]
  },
  {
   "cell_type": "code",
   "execution_count": 48,
   "metadata": {},
   "outputs": [
    {
     "name": "stdout",
     "output_type": "stream",
     "text": [
      "133.9136679172516\n",
      "812.0225200653076\n"
     ]
    }
   ],
   "source": [
    "start = time.time()\n",
    "betw_weighted_hyp = nx.betweenness_centrality(weighted_directed_hyplinks_graph, weight=None)#, normalized=True\n",
    "# normalized:  it will be normalized! \n",
    "print(time.time()-start)\n",
    "\n",
    "start = time.time()\n",
    "betw_weighted_foll = nx.betweenness_centrality(weighted_directed_followers_graph, weight=None)#, normalized=True\n",
    "# normalized:  it will be normalized! \n",
    "print(time.time()-start)\n"
   ]
  },
  {
   "cell_type": "markdown",
   "metadata": {},
   "source": [
    "## Saving betweenness"
   ]
  },
  {
   "cell_type": "code",
   "execution_count": 49,
   "metadata": {},
   "outputs": [],
   "source": [
    "betw_hyp = []\n",
    "betw_foll = []\n",
    "\n",
    "for key in weighted_directed_followers_graph.nodes():\n",
    "    betw_hyp.append(betw_weighted_hyp[key])\n",
    "    betw_foll.append(betw_weighted_foll[key])\n"
   ]
  },
  {
   "cell_type": "code",
   "execution_count": 50,
   "metadata": {},
   "outputs": [],
   "source": [
    "betw = pd.DataFrame(list(zip(list(weighted_directed_followers_graph.nodes()),\n",
    "                             betw_hyp,\n",
    "                             betw_foll)), \n",
    "                    columns = ['nodes','betw_hyp','betw_foll'])\n",
    "\n",
    "betw = pd.read_csv('betwenness.csv',index_col =0)"
   ]
  },
  {
   "cell_type": "markdown",
   "metadata": {},
   "source": [
    "## Create plots betweenness\n"
   ]
  },
  {
   "cell_type": "code",
   "execution_count": 5,
   "metadata": {},
   "outputs": [],
   "source": [
    "betw = pd.read_csv('betweenness.csv')"
   ]
  },
  {
   "cell_type": "code",
   "execution_count": 9,
   "metadata": {},
   "outputs": [
    {
     "data": {
      "image/png": "[encoded data removed]",
      "text/plain": [
       "<Figure size 432x432 with 3 Axes>"
      ]
     },
     "metadata": {
      "needs_background": "light"
     },
     "output_type": "display_data"
    }
   ],
   "source": [
    "# betweenness_zeros.png\n",
    "# used in the study\n",
    "\n",
    "x = norm((betw.betw_hyp))\n",
    "y = norm((betw.betw_foll))\n",
    "data = pd.DataFrame({\n",
    "    'Hyperlink Network': x,\n",
    "    'Follower Network': y,\n",
    "})\n",
    "h = sns.jointplot(x='Hyperlink Network', \n",
    "                  y='Follower Network',\n",
    "                  data=data,color=\"#4CB391\",kind=\"reg\", ylim = (-0.1,1.1),xlim = (-0.1,1.1),\n",
    "                 joint_kws={'line_kws':{'color':'0.7607843137254902'}})\n",
    "path = 'betweenness_zeros.png'\n",
    "#plt.savefig(path, format = \"png\", dpi = 300)"
   ]
  },
  {
   "cell_type": "markdown",
   "metadata": {},
   "source": [
    "# Effect Size difference betweenness\n",
    "Not relevant for other measures "
   ]
  },
  {
   "cell_type": "code",
   "execution_count": 10,
   "metadata": {},
   "outputs": [],
   "source": [
    "from researchpy import ttest\n",
    "betw = pd.read_csv('betweenness.csv')"
   ]
  },
  {
   "cell_type": "code",
   "execution_count": 11,
   "metadata": {},
   "outputs": [
    {
     "data": {
      "text/html": [
       "<div>\n",
       "<style scoped>\n",
       "    .dataframe tbody tr th:only-of-type {\n",
       "        vertical-align: middle;\n",
       "    }\n",
       "\n",
       "    .dataframe tbody tr th {\n",
       "        vertical-align: top;\n",
       "    }\n",
       "\n",
       "    .dataframe thead th {\n",
       "        text-align: right;\n",
       "    }\n",
       "</style>\n",
       "<table border=\"1\" class=\"dataframe\">\n",
       "  <thead>\n",
       "    <tr style=\"text-align: right;\">\n",
       "      <th></th>\n",
       "      <th>Unnamed: 0</th>\n",
       "      <th>betw_hyp</th>\n",
       "      <th>betw_foll</th>\n",
       "    </tr>\n",
       "  </thead>\n",
       "  <tbody>\n",
       "    <tr>\n",
       "      <th>0</th>\n",
       "      <td>@SwiftSystemsInc</td>\n",
       "      <td>4.952722e-08</td>\n",
       "      <td>4.036762e-04</td>\n",
       "    </tr>\n",
       "    <tr>\n",
       "      <th>1</th>\n",
       "      <td>@netedfound</td>\n",
       "      <td>0.000000e+00</td>\n",
       "      <td>0.000000e+00</td>\n",
       "    </tr>\n",
       "    <tr>\n",
       "      <th>2</th>\n",
       "      <td>@mediatechplus</td>\n",
       "      <td>0.000000e+00</td>\n",
       "      <td>1.199761e-04</td>\n",
       "    </tr>\n",
       "    <tr>\n",
       "      <th>3</th>\n",
       "      <td>@systemtools</td>\n",
       "      <td>0.000000e+00</td>\n",
       "      <td>0.000000e+00</td>\n",
       "    </tr>\n",
       "    <tr>\n",
       "      <th>4</th>\n",
       "      <td>@TrackerDesigns</td>\n",
       "      <td>0.000000e+00</td>\n",
       "      <td>0.000000e+00</td>\n",
       "    </tr>\n",
       "    <tr>\n",
       "      <th>...</th>\n",
       "      <td>...</td>\n",
       "      <td>...</td>\n",
       "      <td>...</td>\n",
       "    </tr>\n",
       "    <tr>\n",
       "      <th>11885</th>\n",
       "      <td>@cmdalkon</td>\n",
       "      <td>0.000000e+00</td>\n",
       "      <td>1.378744e-04</td>\n",
       "    </tr>\n",
       "    <tr>\n",
       "      <th>11886</th>\n",
       "      <td>@ninestarconnect</td>\n",
       "      <td>0.000000e+00</td>\n",
       "      <td>0.000000e+00</td>\n",
       "    </tr>\n",
       "    <tr>\n",
       "      <th>11887</th>\n",
       "      <td>@mpw_tweets</td>\n",
       "      <td>0.000000e+00</td>\n",
       "      <td>0.000000e+00</td>\n",
       "    </tr>\n",
       "    <tr>\n",
       "      <th>11888</th>\n",
       "      <td>@dftcomm</td>\n",
       "      <td>0.000000e+00</td>\n",
       "      <td>5.011038e-08</td>\n",
       "    </tr>\n",
       "    <tr>\n",
       "      <th>11889</th>\n",
       "      <td>@iacommalliance</td>\n",
       "      <td>0.000000e+00</td>\n",
       "      <td>9.106924e-05</td>\n",
       "    </tr>\n",
       "  </tbody>\n",
       "</table>\n",
       "<p>11890 rows × 3 columns</p>\n",
       "</div>"
      ],
      "text/plain": [
       "             Unnamed: 0      betw_hyp     betw_foll\n",
       "0      @SwiftSystemsInc  4.952722e-08  4.036762e-04\n",
       "1           @netedfound  0.000000e+00  0.000000e+00\n",
       "2        @mediatechplus  0.000000e+00  1.199761e-04\n",
       "3          @systemtools  0.000000e+00  0.000000e+00\n",
       "4       @TrackerDesigns  0.000000e+00  0.000000e+00\n",
       "...                 ...           ...           ...\n",
       "11885         @cmdalkon  0.000000e+00  1.378744e-04\n",
       "11886  @ninestarconnect  0.000000e+00  0.000000e+00\n",
       "11887       @mpw_tweets  0.000000e+00  0.000000e+00\n",
       "11888          @dftcomm  0.000000e+00  5.011038e-08\n",
       "11889   @iacommalliance  0.000000e+00  9.106924e-05\n",
       "\n",
       "[11890 rows x 3 columns]"
      ]
     },
     "execution_count": 11,
     "metadata": {},
     "output_type": "execute_result"
    }
   ],
   "source": [
    "betw"
   ]
  },
  {
   "cell_type": "code",
   "execution_count": 17,
   "metadata": {},
   "outputs": [
    {
     "data": {
      "text/plain": [
       "(    Variable        N          Mean            SD            SE     95% Conf.  \\\n",
       " 0   betw_hyp  11890.0  4.406452e-09  8.193689e-08  7.514300e-10  2.933527e-09   \n",
       " 1  betw_foll  11890.0  1.261977e-04  7.129658e-04  6.538495e-06  1.133811e-04   \n",
       " 2       diff  11890.0 -1.261932e-04  7.129561e-04  6.538405e-06 -1.390096e-04   \n",
       " \n",
       "        Interval  \n",
       " 0  5.879378e-09  \n",
       " 1  1.390142e-04  \n",
       " 2 -1.133769e-04  ,                   Paired samples t-test     results\n",
       " 0  Difference (betw_hyp - betw_foll) =      -0.0001\n",
       " 1                 Degrees of freedom =   11889.0000\n",
       " 2                                  t =     -19.3003\n",
       " 3              Two side test p value =       0.0000\n",
       " 4             Difference < 0 p value =       0.0000\n",
       " 5             Difference > 0 p value =       1.0000\n",
       " 6                          Cohen's d =      -0.3540\n",
       " 7                          Hedge's g =      -0.3539\n",
       " 8                      Glass's delta =   -1540.1274\n",
       " 9                        Pearson's r =       0.1743)"
      ]
     },
     "execution_count": 17,
     "metadata": {},
     "output_type": "execute_result"
    }
   ],
   "source": [
    "# betweenness \n",
    "ttest(betw.betw_hyp,betw.betw_foll, equal_variances=True, paired=True)"
   ]
  },
  {
   "cell_type": "markdown",
   "metadata": {},
   "source": [
    "Cohens d: -0.3540 => difference small"
   ]
  },
  {
   "cell_type": "code",
   "execution_count": 82,
   "metadata": {},
   "outputs": [
    {
     "data": {
      "text/plain": [
       "Ks_2sampResult(statistic=0.2473404255319149, pvalue=1.660965286195619e-10)"
      ]
     },
     "execution_count": 82,
     "metadata": {},
     "output_type": "execute_result"
    }
   ],
   "source": [
    "df = pd.DataFrame(list(zip(x,y)), columns = ['x','y'])\n",
    "from scipy import stats\n",
    "stats.ks_2samp(x, y)"
   ]
  },
  {
   "cell_type": "code",
   "execution_count": null,
   "metadata": {},
   "outputs": [],
   "source": []
  }
 ],
 "metadata": {
  "kernelspec": {
   "display_name": "Python 3",
   "language": "python",
   "name": "python3"
  },
  "language_info": {
   "codemirror_mode": {
    "name": "ipython",
    "version": 3
   },
   "file_extension": ".py",
   "mimetype": "text/x-python",
   "name": "python",
   "nbconvert_exporter": "python",
   "pygments_lexer": "ipython3",
   "version": "3.7.4"
  }
 },
 "nbformat": 4,
 "nbformat_minor": 2
}
